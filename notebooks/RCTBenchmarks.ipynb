{
 "cells": [
  {
   "cell_type": "code",
   "execution_count": 1,
   "metadata": {},
   "outputs": [],
   "source": [
    "import warnings\n",
    "\n",
    "warnings.filterwarnings(\"ignore\")\n",
    "\n",
    "import pandas as pd\n",
    "import numpy as np\n",
    "import matplotlib.pyplot as plt\n",
    "import seaborn as sns\n",
    "\n",
    "plt.style.use('seaborn-whitegrid')\n",
    "import statsmodels.formula.api as smf\n",
    "import statsmodels.api as sm\n",
    "from scipy import stats\n",
    "from lightgbm import LGBMClassifier, LGBMRegressor\n",
    "from sklearn.linear_model import LogisticRegressionCV, LassoCV, Lasso, ElasticNetCV, LogisticRegression, LinearRegression\n",
    "\n",
    "\n",
    "import sys\n",
    "import os\n",
    "import json\n",
    "\n",
    "sys.path.append(os.path.abspath(\"../\"))\n",
    "\n",
    "from models.dml import D2ML"
   ]
  },
  {
   "cell_type": "code",
   "execution_count": 2,
   "metadata": {},
   "outputs": [],
   "source": [
    "%matplotlib inline"
   ]
  },
  {
   "cell_type": "markdown",
   "metadata": {},
   "source": [
    "# Comparing causal inference models with RCT benchmark\n",
    "### DATA\n",
    "- とても有名な職業訓練RCTデータ\n",
    "- LaLonde(1986)[ \"Evaluating the Econometric Evaluations of Training Programs with Experiment Data\"](https://www.researchgate.net/publication/4900843_Evaluating_the_Econometric_Evaluations_of_Training_Programs_with_Experiment_Data)\n",
    "- 条件を満たす失業者にカウンセリングと短期職業経験の実施（＝treat）するというRCT\n",
    "\n",
    "|   name  |  意味  |\n",
    "| :-------------: | :-------------: |\n",
    "|  treat  |  介入|\n",
    "|  age  |  年齢 |\n",
    "|  education |  学歴  |\n",
    "|  black  |  アフリカ系=1 or 0  |\n",
    "|  hispanic  |  ヒスパニック系=1 or 0  |\n",
    "| married  |  結婚有無 |\n",
    "|  nodegree\t  |  学位がない=1 |\n",
    "| re74  |  74年の年収  |\n",
    "|  re75  |  75年の年収  |\n",
    "|  re78  |  78年の年収(アウトカム)  |\n",
    "\n",
    "- 今回はこれにCPS調査で直前に無職だった人もいれて、人工的にバイアスを作り出す"
   ]
  },
  {
   "cell_type": "code",
   "execution_count": 3,
   "metadata": {},
   "outputs": [],
   "source": [
    "RCT_DATA = \"http://www.nber.org/~rdehejia/data/nsw_dw.dta\"\n",
    "CPS_DATA = \"http://www.nber.org/~rdehejia/data/cps_controls3.dta\"  # cps調査で直前に無職だったものに限定"
   ]
  },
  {
   "cell_type": "code",
   "execution_count": 4,
   "metadata": {},
   "outputs": [
    {
     "data": {
      "text/html": [
       "<div>\n",
       "<style scoped>\n",
       "    .dataframe tbody tr th:only-of-type {\n",
       "        vertical-align: middle;\n",
       "    }\n",
       "\n",
       "    .dataframe tbody tr th {\n",
       "        vertical-align: top;\n",
       "    }\n",
       "\n",
       "    .dataframe thead th {\n",
       "        text-align: right;\n",
       "    }\n",
       "</style>\n",
       "<table border=\"1\" class=\"dataframe\">\n",
       "  <thead>\n",
       "    <tr style=\"text-align: right;\">\n",
       "      <th></th>\n",
       "      <th>treat</th>\n",
       "      <th>age</th>\n",
       "      <th>education</th>\n",
       "      <th>black</th>\n",
       "      <th>hispanic</th>\n",
       "      <th>married</th>\n",
       "      <th>nodegree</th>\n",
       "      <th>re74</th>\n",
       "      <th>re75</th>\n",
       "      <th>re78</th>\n",
       "    </tr>\n",
       "  </thead>\n",
       "  <tbody>\n",
       "    <tr>\n",
       "      <th>0</th>\n",
       "      <td>1</td>\n",
       "      <td>37.0</td>\n",
       "      <td>11.0</td>\n",
       "      <td>1.0</td>\n",
       "      <td>0.0</td>\n",
       "      <td>1.0</td>\n",
       "      <td>1.0</td>\n",
       "      <td>0.0</td>\n",
       "      <td>0.0</td>\n",
       "      <td>9930.045898</td>\n",
       "    </tr>\n",
       "    <tr>\n",
       "      <th>1</th>\n",
       "      <td>1</td>\n",
       "      <td>22.0</td>\n",
       "      <td>9.0</td>\n",
       "      <td>0.0</td>\n",
       "      <td>1.0</td>\n",
       "      <td>0.0</td>\n",
       "      <td>1.0</td>\n",
       "      <td>0.0</td>\n",
       "      <td>0.0</td>\n",
       "      <td>3595.894043</td>\n",
       "    </tr>\n",
       "    <tr>\n",
       "      <th>2</th>\n",
       "      <td>1</td>\n",
       "      <td>30.0</td>\n",
       "      <td>12.0</td>\n",
       "      <td>1.0</td>\n",
       "      <td>0.0</td>\n",
       "      <td>0.0</td>\n",
       "      <td>0.0</td>\n",
       "      <td>0.0</td>\n",
       "      <td>0.0</td>\n",
       "      <td>24909.449219</td>\n",
       "    </tr>\n",
       "    <tr>\n",
       "      <th>3</th>\n",
       "      <td>1</td>\n",
       "      <td>27.0</td>\n",
       "      <td>11.0</td>\n",
       "      <td>1.0</td>\n",
       "      <td>0.0</td>\n",
       "      <td>0.0</td>\n",
       "      <td>1.0</td>\n",
       "      <td>0.0</td>\n",
       "      <td>0.0</td>\n",
       "      <td>7506.145996</td>\n",
       "    </tr>\n",
       "    <tr>\n",
       "      <th>4</th>\n",
       "      <td>1</td>\n",
       "      <td>33.0</td>\n",
       "      <td>8.0</td>\n",
       "      <td>1.0</td>\n",
       "      <td>0.0</td>\n",
       "      <td>0.0</td>\n",
       "      <td>1.0</td>\n",
       "      <td>0.0</td>\n",
       "      <td>0.0</td>\n",
       "      <td>289.789886</td>\n",
       "    </tr>\n",
       "  </tbody>\n",
       "</table>\n",
       "</div>"
      ],
      "text/plain": [
       "   treat   age  education  black  hispanic  married  nodegree  re74  re75  \\\n",
       "0      1  37.0       11.0    1.0       0.0      1.0       1.0   0.0   0.0   \n",
       "1      1  22.0        9.0    0.0       1.0      0.0       1.0   0.0   0.0   \n",
       "2      1  30.0       12.0    1.0       0.0      0.0       0.0   0.0   0.0   \n",
       "3      1  27.0       11.0    1.0       0.0      0.0       1.0   0.0   0.0   \n",
       "4      1  33.0        8.0    1.0       0.0      0.0       1.0   0.0   0.0   \n",
       "\n",
       "           re78  \n",
       "0   9930.045898  \n",
       "1   3595.894043  \n",
       "2  24909.449219  \n",
       "3   7506.145996  \n",
       "4    289.789886  "
      ]
     },
     "execution_count": 4,
     "metadata": {},
     "output_type": "execute_result"
    }
   ],
   "source": [
    "rct_df = pd.read_stata(RCT_DATA )\n",
    "del rct_df[\"data_id\"]\n",
    "\n",
    "rct_df[\"treat\"] = rct_df[\"treat\"].astype(int)\n",
    "rct_df.head()"
   ]
  },
  {
   "cell_type": "code",
   "execution_count": 5,
   "metadata": {},
   "outputs": [],
   "source": [
    "def p_value_color(df):\n",
    "    styles = df.copy()\n",
    "    styles.iloc[:, :] = \"\"\n",
    "    idx_ = df[\"p_value\"] <= 0.05\n",
    "    styles.loc[idx_, :] = \"color:purple\"\n",
    "    return styles"
   ]
  },
  {
   "cell_type": "code",
   "execution_count": 6,
   "metadata": {},
   "outputs": [
    {
     "data": {
      "text/html": [
       "<style  type=\"text/css\" >\n",
       "#T_38e50_row5_col0,#T_38e50_row5_col1,#T_38e50_row5_col2,#T_38e50_row5_col3,#T_38e50_row5_col4,#T_38e50_row5_col5,#T_38e50_row5_col6,#T_38e50_row5_col7,#T_38e50_row5_col8,#T_38e50_row5_col9,#T_38e50_row8_col0,#T_38e50_row8_col1,#T_38e50_row8_col2,#T_38e50_row8_col3,#T_38e50_row8_col4,#T_38e50_row8_col5,#T_38e50_row8_col6,#T_38e50_row8_col7,#T_38e50_row8_col8,#T_38e50_row8_col9{\n",
       "            color: purple;\n",
       "        }</style><table id=\"T_38e50_\" ><thead>    <tr>        <th class=\"blank level0\" ></th>        <th class=\"col_heading level0 col0\" colspan=\"2\">count</th>        <th class=\"col_heading level0 col2\" colspan=\"2\">mean</th>        <th class=\"col_heading level0 col4\" colspan=\"2\">median</th>        <th class=\"col_heading level0 col6\" colspan=\"2\">std</th>        <th class=\"col_heading level0 col8\" >t_statistic</th>        <th class=\"col_heading level0 col9\" >p_value</th>    </tr>    <tr>        <th class=\"index_name level1\" >treat</th>        <th class=\"col_heading level1 col0\" >0</th>        <th class=\"col_heading level1 col1\" >1</th>        <th class=\"col_heading level1 col2\" >0</th>        <th class=\"col_heading level1 col3\" >1</th>        <th class=\"col_heading level1 col4\" >0</th>        <th class=\"col_heading level1 col5\" >1</th>        <th class=\"col_heading level1 col6\" >0</th>        <th class=\"col_heading level1 col7\" >1</th>        <th class=\"col_heading level1 col8\" ></th>        <th class=\"col_heading level1 col9\" ></th>    </tr></thead><tbody>\n",
       "                <tr>\n",
       "                        <th id=\"T_38e50_level0_row0\" class=\"row_heading level0 row0\" >age</th>\n",
       "                        <td id=\"T_38e50_row0_col0\" class=\"data row0 col0\" >260</td>\n",
       "                        <td id=\"T_38e50_row0_col1\" class=\"data row0 col1\" >185</td>\n",
       "                        <td id=\"T_38e50_row0_col2\" class=\"data row0 col2\" >25.053846</td>\n",
       "                        <td id=\"T_38e50_row0_col3\" class=\"data row0 col3\" >25.816216</td>\n",
       "                        <td id=\"T_38e50_row0_col4\" class=\"data row0 col4\" >24.000000</td>\n",
       "                        <td id=\"T_38e50_row0_col5\" class=\"data row0 col5\" >25.000000</td>\n",
       "                        <td id=\"T_38e50_row0_col6\" class=\"data row0 col6\" >7.057745</td>\n",
       "                        <td id=\"T_38e50_row0_col7\" class=\"data row0 col7\" >7.155019</td>\n",
       "                        <td id=\"T_38e50_row0_col8\" class=\"data row0 col8\" >-1.114036</td>\n",
       "                        <td id=\"T_38e50_row0_col9\" class=\"data row0 col9\" >0.265944</td>\n",
       "            </tr>\n",
       "            <tr>\n",
       "                        <th id=\"T_38e50_level0_row1\" class=\"row_heading level0 row1\" >black</th>\n",
       "                        <td id=\"T_38e50_row1_col0\" class=\"data row1 col0\" >260</td>\n",
       "                        <td id=\"T_38e50_row1_col1\" class=\"data row1 col1\" >185</td>\n",
       "                        <td id=\"T_38e50_row1_col2\" class=\"data row1 col2\" >0.826923</td>\n",
       "                        <td id=\"T_38e50_row1_col3\" class=\"data row1 col3\" >0.843243</td>\n",
       "                        <td id=\"T_38e50_row1_col4\" class=\"data row1 col4\" >1.000000</td>\n",
       "                        <td id=\"T_38e50_row1_col5\" class=\"data row1 col5\" >1.000000</td>\n",
       "                        <td id=\"T_38e50_row1_col6\" class=\"data row1 col6\" >0.379043</td>\n",
       "                        <td id=\"T_38e50_row1_col7\" class=\"data row1 col7\" >0.364558</td>\n",
       "                        <td id=\"T_38e50_row1_col8\" class=\"data row1 col8\" >-0.457778</td>\n",
       "                        <td id=\"T_38e50_row1_col9\" class=\"data row1 col9\" >0.647357</td>\n",
       "            </tr>\n",
       "            <tr>\n",
       "                        <th id=\"T_38e50_level0_row2\" class=\"row_heading level0 row2\" >education</th>\n",
       "                        <td id=\"T_38e50_row2_col0\" class=\"data row2 col0\" >260</td>\n",
       "                        <td id=\"T_38e50_row2_col1\" class=\"data row2 col1\" >185</td>\n",
       "                        <td id=\"T_38e50_row2_col2\" class=\"data row2 col2\" >10.088462</td>\n",
       "                        <td id=\"T_38e50_row2_col3\" class=\"data row2 col3\" >10.345946</td>\n",
       "                        <td id=\"T_38e50_row2_col4\" class=\"data row2 col4\" >10.000000</td>\n",
       "                        <td id=\"T_38e50_row2_col5\" class=\"data row2 col5\" >11.000000</td>\n",
       "                        <td id=\"T_38e50_row2_col6\" class=\"data row2 col6\" >1.614325</td>\n",
       "                        <td id=\"T_38e50_row2_col7\" class=\"data row2 col7\" >2.010650</td>\n",
       "                        <td id=\"T_38e50_row2_col8\" class=\"data row2 col8\" >-1.442184</td>\n",
       "                        <td id=\"T_38e50_row2_col9\" class=\"data row2 col9\" >0.150169</td>\n",
       "            </tr>\n",
       "            <tr>\n",
       "                        <th id=\"T_38e50_level0_row3\" class=\"row_heading level0 row3\" >hispanic</th>\n",
       "                        <td id=\"T_38e50_row3_col0\" class=\"data row3 col0\" >260</td>\n",
       "                        <td id=\"T_38e50_row3_col1\" class=\"data row3 col1\" >185</td>\n",
       "                        <td id=\"T_38e50_row3_col2\" class=\"data row3 col2\" >0.107692</td>\n",
       "                        <td id=\"T_38e50_row3_col3\" class=\"data row3 col3\" >0.059459</td>\n",
       "                        <td id=\"T_38e50_row3_col4\" class=\"data row3 col4\" >0.000000</td>\n",
       "                        <td id=\"T_38e50_row3_col5\" class=\"data row3 col5\" >0.000000</td>\n",
       "                        <td id=\"T_38e50_row3_col6\" class=\"data row3 col6\" >0.310589</td>\n",
       "                        <td id=\"T_38e50_row3_col7\" class=\"data row3 col7\" >0.237124</td>\n",
       "                        <td id=\"T_38e50_row3_col8\" class=\"data row3 col8\" >1.856543</td>\n",
       "                        <td id=\"T_38e50_row3_col9\" class=\"data row3 col9\" >0.064043</td>\n",
       "            </tr>\n",
       "            <tr>\n",
       "                        <th id=\"T_38e50_level0_row4\" class=\"row_heading level0 row4\" >married</th>\n",
       "                        <td id=\"T_38e50_row4_col0\" class=\"data row4 col0\" >260</td>\n",
       "                        <td id=\"T_38e50_row4_col1\" class=\"data row4 col1\" >185</td>\n",
       "                        <td id=\"T_38e50_row4_col2\" class=\"data row4 col2\" >0.153846</td>\n",
       "                        <td id=\"T_38e50_row4_col3\" class=\"data row4 col3\" >0.189189</td>\n",
       "                        <td id=\"T_38e50_row4_col4\" class=\"data row4 col4\" >0.000000</td>\n",
       "                        <td id=\"T_38e50_row4_col5\" class=\"data row4 col5\" >0.000000</td>\n",
       "                        <td id=\"T_38e50_row4_col6\" class=\"data row4 col6\" >0.361497</td>\n",
       "                        <td id=\"T_38e50_row4_col7\" class=\"data row4 col7\" >0.392722</td>\n",
       "                        <td id=\"T_38e50_row4_col8\" class=\"data row4 col8\" >-0.966836</td>\n",
       "                        <td id=\"T_38e50_row4_col9\" class=\"data row4 col9\" >0.334248</td>\n",
       "            </tr>\n",
       "            <tr>\n",
       "                        <th id=\"T_38e50_level0_row5\" class=\"row_heading level0 row5\" >nodegree</th>\n",
       "                        <td id=\"T_38e50_row5_col0\" class=\"data row5 col0\" >260</td>\n",
       "                        <td id=\"T_38e50_row5_col1\" class=\"data row5 col1\" >185</td>\n",
       "                        <td id=\"T_38e50_row5_col2\" class=\"data row5 col2\" >0.834615</td>\n",
       "                        <td id=\"T_38e50_row5_col3\" class=\"data row5 col3\" >0.708108</td>\n",
       "                        <td id=\"T_38e50_row5_col4\" class=\"data row5 col4\" >1.000000</td>\n",
       "                        <td id=\"T_38e50_row5_col5\" class=\"data row5 col5\" >1.000000</td>\n",
       "                        <td id=\"T_38e50_row5_col6\" class=\"data row5 col6\" >0.372244</td>\n",
       "                        <td id=\"T_38e50_row5_col7\" class=\"data row5 col7\" >0.455867</td>\n",
       "                        <td id=\"T_38e50_row5_col8\" class=\"data row5 col8\" >3.108498</td>\n",
       "                        <td id=\"T_38e50_row5_col9\" class=\"data row5 col9\" >0.002037</td>\n",
       "            </tr>\n",
       "            <tr>\n",
       "                        <th id=\"T_38e50_level0_row6\" class=\"row_heading level0 row6\" >re74</th>\n",
       "                        <td id=\"T_38e50_row6_col0\" class=\"data row6 col0\" >260</td>\n",
       "                        <td id=\"T_38e50_row6_col1\" class=\"data row6 col1\" >185</td>\n",
       "                        <td id=\"T_38e50_row6_col2\" class=\"data row6 col2\" >2107.026611</td>\n",
       "                        <td id=\"T_38e50_row6_col3\" class=\"data row6 col3\" >2095.573730</td>\n",
       "                        <td id=\"T_38e50_row6_col4\" class=\"data row6 col4\" >0.000000</td>\n",
       "                        <td id=\"T_38e50_row6_col5\" class=\"data row6 col5\" >0.000000</td>\n",
       "                        <td id=\"T_38e50_row6_col6\" class=\"data row6 col6\" >5687.905639</td>\n",
       "                        <td id=\"T_38e50_row6_col7\" class=\"data row6 col7\" >4886.620354</td>\n",
       "                        <td id=\"T_38e50_row6_col8\" class=\"data row6 col8\" >0.022747</td>\n",
       "                        <td id=\"T_38e50_row6_col9\" class=\"data row6 col9\" >0.981863</td>\n",
       "            </tr>\n",
       "            <tr>\n",
       "                        <th id=\"T_38e50_level0_row7\" class=\"row_heading level0 row7\" >re75</th>\n",
       "                        <td id=\"T_38e50_row7_col0\" class=\"data row7 col0\" >260</td>\n",
       "                        <td id=\"T_38e50_row7_col1\" class=\"data row7 col1\" >185</td>\n",
       "                        <td id=\"T_38e50_row7_col2\" class=\"data row7 col2\" >1266.909058</td>\n",
       "                        <td id=\"T_38e50_row7_col3\" class=\"data row7 col3\" >1532.055298</td>\n",
       "                        <td id=\"T_38e50_row7_col4\" class=\"data row7 col4\" >0.000000</td>\n",
       "                        <td id=\"T_38e50_row7_col5\" class=\"data row7 col5\" >0.000000</td>\n",
       "                        <td id=\"T_38e50_row7_col6\" class=\"data row7 col6\" >3102.982088</td>\n",
       "                        <td id=\"T_38e50_row7_col7\" class=\"data row7 col7\" >3219.250879</td>\n",
       "                        <td id=\"T_38e50_row7_col8\" class=\"data row7 col8\" >-0.869206</td>\n",
       "                        <td id=\"T_38e50_row7_col9\" class=\"data row7 col9\" >0.385273</td>\n",
       "            </tr>\n",
       "            <tr>\n",
       "                        <th id=\"T_38e50_level0_row8\" class=\"row_heading level0 row8\" >re78</th>\n",
       "                        <td id=\"T_38e50_row8_col0\" class=\"data row8 col0\" >260</td>\n",
       "                        <td id=\"T_38e50_row8_col1\" class=\"data row8 col1\" >185</td>\n",
       "                        <td id=\"T_38e50_row8_col2\" class=\"data row8 col2\" >4554.801270</td>\n",
       "                        <td id=\"T_38e50_row8_col3\" class=\"data row8 col3\" >6349.143555</td>\n",
       "                        <td id=\"T_38e50_row8_col4\" class=\"data row8 col4\" >3138.795410</td>\n",
       "                        <td id=\"T_38e50_row8_col5\" class=\"data row8 col5\" >4232.309082</td>\n",
       "                        <td id=\"T_38e50_row8_col6\" class=\"data row8 col6\" >5483.836001</td>\n",
       "                        <td id=\"T_38e50_row8_col7\" class=\"data row8 col7\" >7867.402183</td>\n",
       "                        <td id=\"T_38e50_row8_col8\" class=\"data row8 col8\" >-2.674145</td>\n",
       "                        <td id=\"T_38e50_row8_col9\" class=\"data row8 col9\" >0.007893</td>\n",
       "            </tr>\n",
       "    </tbody></table>"
      ],
      "text/plain": [
       "<pandas.io.formats.style.Styler at 0x7ffe1bb2d650>"
      ]
     },
     "execution_count": 6,
     "metadata": {},
     "output_type": "execute_result"
    }
   ],
   "source": [
    "base_values = [col for col in rct_df.columns if col != \"treat\"]\n",
    "_pivot = pd.pivot_table(\n",
    "    rct_df,\n",
    "    columns=\"treat\",\n",
    "    values=base_values,\n",
    "    # margins=True,\n",
    "    aggfunc=[\"count\", np.mean, np.median, np.std],\n",
    ")\n",
    "_pivot[\"t_statistic\"] = 0\n",
    "_pivot[\"p_value\"] = 0\n",
    "\n",
    "for _value in base_values:\n",
    "    _stat, _p = stats.ttest_ind(\n",
    "        *rct_df.dropna(subset=[_value])\n",
    "        .groupby(\"treat\")[_value]\n",
    "        .apply(lambda x: list(x)),\n",
    "        equal_var=False\n",
    "    )\n",
    "    _pivot.loc[_value, \"t_statistic\"] = _stat\n",
    "    _pivot.loc[_value, \"p_value\"] = _p\n",
    "\n",
    "_pivot.style.apply(p_value_color, axis=None)"
   ]
  },
  {
   "cell_type": "code",
   "execution_count": 7,
   "metadata": {},
   "outputs": [
    {
     "data": {
      "image/png": "[encoded data removed]",
      "text/plain": [
       "<Figure size 432x288 with 1 Axes>"
      ]
     },
     "metadata": {
      "needs_background": "light"
     },
     "output_type": "display_data"
    }
   ],
   "source": [
    "# 分析前の共変量バランス\n",
    "def cal_abs_mean_diff(df):\n",
    "    # (treatment群の平均 - control群の平均) / 全体の標準誤差\n",
    "    return (\n",
    "        (\n",
    "            df.query(\"treat>0\").drop(\"treat\", axis=1).mean()\n",
    "            - df.query(\"treat<1\").drop(\"treat\", axis=1).mean()\n",
    "        )\n",
    "        / df.drop(\"treat\", axis=1).std()\n",
    "    ).abs()\n",
    "\n",
    "\n",
    "# 調整前のAbsolute Mean Difference\n",
    "unadjusted_balance = rct_df[\n",
    "    [\n",
    "        \"treat\",\n",
    "        \"age\",\n",
    "        \"education\",\n",
    "        \"black\",\n",
    "        \"hispanic\",\n",
    "        \"nodegree\",\n",
    "        \"married\",\n",
    "        \"re74\",\n",
    "        \"re75\",\n",
    "    ]\n",
    "]\n",
    "unadjusted_balance = cal_abs_mean_diff(unadjusted_balance)\n",
    "\n",
    "fig, ax = plt.subplots()\n",
    "# ax.set_title(\"共変量バランス（調整前）\", fontsize=14)\n",
    "ax.set_xlabel(\"Absolute Mean Difference\", fontsize=12)\n",
    "ax.set_ylabel(\"features\", fontsize=12)\n",
    "ax.barh(unadjusted_balance.index, unadjusted_balance, alpha=0.8)\n",
    "ax.axvline(x=0.1, alpha=0.5, color=\"black\", linestyle=\"dotted\")\n",
    "plt.show()"
   ]
  },
  {
   "cell_type": "code",
   "execution_count": 8,
   "metadata": {},
   "outputs": [
    {
     "name": "stdout",
     "output_type": "stream",
     "text": [
      "re78 ~ treat + age + education + black + hispanic + married + nodegree + re74 + re75\n"
     ]
    },
    {
     "data": {
      "text/html": [
       "<table class=\"simpletable\">\n",
       "<caption>OLS Regression Results</caption>\n",
       "<tr>\n",
       "  <th>Dep. Variable:</th>          <td>re78</td>       <th>  R-squared:         </th> <td>   0.055</td>\n",
       "</tr>\n",
       "<tr>\n",
       "  <th>Model:</th>                   <td>OLS</td>       <th>  Adj. R-squared:    </th> <td>   0.035</td>\n",
       "</tr>\n",
       "<tr>\n",
       "  <th>Method:</th>             <td>Least Squares</td>  <th>  F-statistic:       </th> <td>   2.804</td>\n",
       "</tr>\n",
       "<tr>\n",
       "  <th>Date:</th>             <td>Wed, 06 Apr 2022</td> <th>  Prob (F-statistic):</th>  <td>0.00329</td>\n",
       "</tr>\n",
       "<tr>\n",
       "  <th>Time:</th>                 <td>10:23:45</td>     <th>  Log-Likelihood:    </th> <td> -4534.2</td>\n",
       "</tr>\n",
       "<tr>\n",
       "  <th>No. Observations:</th>      <td>   445</td>      <th>  AIC:               </th> <td>   9088.</td>\n",
       "</tr>\n",
       "<tr>\n",
       "  <th>Df Residuals:</th>          <td>   435</td>      <th>  BIC:               </th> <td>   9129.</td>\n",
       "</tr>\n",
       "<tr>\n",
       "  <th>Df Model:</th>              <td>     9</td>      <th>                     </th>     <td> </td>   \n",
       "</tr>\n",
       "<tr>\n",
       "  <th>Covariance Type:</th>      <td>nonrobust</td>    <th>                     </th>     <td> </td>   \n",
       "</tr>\n",
       "</table>\n",
       "<table class=\"simpletable\">\n",
       "<tr>\n",
       "      <td></td>         <th>coef</th>     <th>std err</th>      <th>t</th>      <th>P>|t|</th>  <th>[0.025</th>    <th>0.975]</th>  \n",
       "</tr>\n",
       "<tr>\n",
       "  <th>Intercept</th> <td>  785.0614</td> <td> 3374.969</td> <td>    0.233</td> <td> 0.816</td> <td>-5848.211</td> <td> 7418.334</td>\n",
       "</tr>\n",
       "<tr>\n",
       "  <th>treat</th>     <td> 1676.3426</td> <td>  638.682</td> <td>    2.625</td> <td> 0.009</td> <td>  421.056</td> <td> 2931.629</td>\n",
       "</tr>\n",
       "<tr>\n",
       "  <th>age</th>       <td>   55.3167</td> <td>   45.284</td> <td>    1.222</td> <td> 0.223</td> <td>  -33.686</td> <td>  144.319</td>\n",
       "</tr>\n",
       "<tr>\n",
       "  <th>education</th> <td>  395.7343</td> <td>  227.415</td> <td>    1.740</td> <td> 0.083</td> <td>  -51.234</td> <td>  842.703</td>\n",
       "</tr>\n",
       "<tr>\n",
       "  <th>black</th>     <td>-2159.5222</td> <td> 1169.036</td> <td>   -1.847</td> <td> 0.065</td> <td>-4457.183</td> <td>  138.139</td>\n",
       "</tr>\n",
       "<tr>\n",
       "  <th>hispanic</th>  <td>  164.0327</td> <td> 1549.457</td> <td>    0.106</td> <td> 0.916</td> <td>-2881.320</td> <td> 3209.386</td>\n",
       "</tr>\n",
       "<tr>\n",
       "  <th>married</th>   <td> -138.7253</td> <td>  879.728</td> <td>   -0.158</td> <td> 0.875</td> <td>-1867.771</td> <td> 1590.321</td>\n",
       "</tr>\n",
       "<tr>\n",
       "  <th>nodegree</th>  <td>  -70.6806</td> <td> 1004.387</td> <td>   -0.070</td> <td> 0.944</td> <td>-2044.736</td> <td> 1903.374</td>\n",
       "</tr>\n",
       "<tr>\n",
       "  <th>re74</th>      <td>    0.0821</td> <td>    0.077</td> <td>    1.061</td> <td> 0.289</td> <td>   -0.070</td> <td>    0.234</td>\n",
       "</tr>\n",
       "<tr>\n",
       "  <th>re75</th>      <td>    0.0528</td> <td>    0.135</td> <td>    0.389</td> <td> 0.697</td> <td>   -0.214</td> <td>    0.319</td>\n",
       "</tr>\n",
       "</table>\n",
       "<table class=\"simpletable\">\n",
       "<tr>\n",
       "  <th>Omnibus:</th>       <td>284.809</td> <th>  Durbin-Watson:     </th> <td>   2.059</td>\n",
       "</tr>\n",
       "<tr>\n",
       "  <th>Prob(Omnibus):</th> <td> 0.000</td>  <th>  Jarque-Bera (JB):  </th> <td>3770.859</td>\n",
       "</tr>\n",
       "<tr>\n",
       "  <th>Skew:</th>          <td> 2.545</td>  <th>  Prob(JB):          </th> <td>    0.00</td>\n",
       "</tr>\n",
       "<tr>\n",
       "  <th>Kurtosis:</th>      <td>16.321</td>  <th>  Cond. No.          </th> <td>7.19e+04</td>\n",
       "</tr>\n",
       "</table><br/><br/>Notes:<br/>[1] Standard Errors assume that the covariance matrix of the errors is correctly specified.<br/>[2] The condition number is large, 7.19e+04. This might indicate that there are<br/>strong multicollinearity or other numerical problems."
      ],
      "text/plain": [
       "<class 'statsmodels.iolib.summary.Summary'>\n",
       "\"\"\"\n",
       "                            OLS Regression Results                            \n",
       "==============================================================================\n",
       "Dep. Variable:                   re78   R-squared:                       0.055\n",
       "Model:                            OLS   Adj. R-squared:                  0.035\n",
       "Method:                 Least Squares   F-statistic:                     2.804\n",
       "Date:                Wed, 06 Apr 2022   Prob (F-statistic):            0.00329\n",
       "Time:                        10:23:45   Log-Likelihood:                -4534.2\n",
       "No. Observations:                 445   AIC:                             9088.\n",
       "Df Residuals:                     435   BIC:                             9129.\n",
       "Df Model:                           9                                         \n",
       "Covariance Type:            nonrobust                                         \n",
       "==============================================================================\n",
       "                 coef    std err          t      P>|t|      [0.025      0.975]\n",
       "------------------------------------------------------------------------------\n",
       "Intercept    785.0614   3374.969      0.233      0.816   -5848.211    7418.334\n",
       "treat       1676.3426    638.682      2.625      0.009     421.056    2931.629\n",
       "age           55.3167     45.284      1.222      0.223     -33.686     144.319\n",
       "education    395.7343    227.415      1.740      0.083     -51.234     842.703\n",
       "black      -2159.5222   1169.036     -1.847      0.065   -4457.183     138.139\n",
       "hispanic     164.0327   1549.457      0.106      0.916   -2881.320    3209.386\n",
       "married     -138.7253    879.728     -0.158      0.875   -1867.771    1590.321\n",
       "nodegree     -70.6806   1004.387     -0.070      0.944   -2044.736    1903.374\n",
       "re74           0.0821      0.077      1.061      0.289      -0.070       0.234\n",
       "re75           0.0528      0.135      0.389      0.697      -0.214       0.319\n",
       "==============================================================================\n",
       "Omnibus:                      284.809   Durbin-Watson:                   2.059\n",
       "Prob(Omnibus):                  0.000   Jarque-Bera (JB):             3770.859\n",
       "Skew:                           2.545   Prob(JB):                         0.00\n",
       "Kurtosis:                      16.321   Cond. No.                     7.19e+04\n",
       "==============================================================================\n",
       "\n",
       "Notes:\n",
       "[1] Standard Errors assume that the covariance matrix of the errors is correctly specified.\n",
       "[2] The condition number is large, 7.19e+04. This might indicate that there are\n",
       "strong multicollinearity or other numerical problems.\n",
       "\"\"\""
      ]
     },
     "execution_count": 8,
     "metadata": {},
     "output_type": "execute_result"
    }
   ],
   "source": [
    "# multi regression\n",
    "all_featuers = [col for col in rct_df.columns if \"re78\" not in col]\n",
    "\n",
    "multi_formula = \"re78 ~ \"\n",
    "for i, _featuer in enumerate(all_featuers):\n",
    "    if i == 0:\n",
    "        multi_formula += f\"{_featuer}\"\n",
    "    else:\n",
    "        multi_formula += f\" + {_featuer}\"\n",
    "print(multi_formula)\n",
    "\n",
    "rct_multi_regression = smf.ols(multi_formula, data=rct_df).fit()\n",
    "rct_multi_regression.summary()"
   ]
  },
  {
   "cell_type": "code",
   "execution_count": 9,
   "metadata": {},
   "outputs": [
    {
     "name": "stdout",
     "output_type": "stream",
     "text": [
      "rct_effect :  1676.3426254026263\n"
     ]
    }
   ],
   "source": [
    "rct_effect = rct_multi_regression.params[\"treat\"]\n",
    "print(\"rct_effect : \", rct_effect)"
   ]
  },
  {
   "cell_type": "markdown",
   "metadata": {},
   "source": [
    "## 検証用データを生成"
   ]
  },
  {
   "cell_type": "code",
   "execution_count": 10,
   "metadata": {},
   "outputs": [
    {
     "data": {
      "text/html": [
       "<div>\n",
       "<style scoped>\n",
       "    .dataframe tbody tr th:only-of-type {\n",
       "        vertical-align: middle;\n",
       "    }\n",
       "\n",
       "    .dataframe tbody tr th {\n",
       "        vertical-align: top;\n",
       "    }\n",
       "\n",
       "    .dataframe thead th {\n",
       "        text-align: right;\n",
       "    }\n",
       "</style>\n",
       "<table border=\"1\" class=\"dataframe\">\n",
       "  <thead>\n",
       "    <tr style=\"text-align: right;\">\n",
       "      <th></th>\n",
       "      <th>treat</th>\n",
       "      <th>age</th>\n",
       "      <th>education</th>\n",
       "      <th>black</th>\n",
       "      <th>hispanic</th>\n",
       "      <th>married</th>\n",
       "      <th>nodegree</th>\n",
       "      <th>re74</th>\n",
       "      <th>re75</th>\n",
       "      <th>re78</th>\n",
       "    </tr>\n",
       "  </thead>\n",
       "  <tbody>\n",
       "    <tr>\n",
       "      <th>275</th>\n",
       "      <td>0</td>\n",
       "      <td>30.0</td>\n",
       "      <td>16.0</td>\n",
       "      <td>0.0</td>\n",
       "      <td>0.0</td>\n",
       "      <td>0.0</td>\n",
       "      <td>0.0</td>\n",
       "      <td>3093.681885</td>\n",
       "      <td>4468.645020</td>\n",
       "      <td>15538.290039</td>\n",
       "    </tr>\n",
       "    <tr>\n",
       "      <th>477</th>\n",
       "      <td>0</td>\n",
       "      <td>31.0</td>\n",
       "      <td>12.0</td>\n",
       "      <td>1.0</td>\n",
       "      <td>0.0</td>\n",
       "      <td>1.0</td>\n",
       "      <td>0.0</td>\n",
       "      <td>0.000000</td>\n",
       "      <td>42.967739</td>\n",
       "      <td>11023.839844</td>\n",
       "    </tr>\n",
       "    <tr>\n",
       "      <th>332</th>\n",
       "      <td>0</td>\n",
       "      <td>24.0</td>\n",
       "      <td>10.0</td>\n",
       "      <td>0.0</td>\n",
       "      <td>0.0</td>\n",
       "      <td>1.0</td>\n",
       "      <td>1.0</td>\n",
       "      <td>4719.874023</td>\n",
       "      <td>2565.531982</td>\n",
       "      <td>2173.736084</td>\n",
       "    </tr>\n",
       "    <tr>\n",
       "      <th>493</th>\n",
       "      <td>0</td>\n",
       "      <td>22.0</td>\n",
       "      <td>12.0</td>\n",
       "      <td>0.0</td>\n",
       "      <td>0.0</td>\n",
       "      <td>1.0</td>\n",
       "      <td>0.0</td>\n",
       "      <td>9022.423828</td>\n",
       "      <td>0.000000</td>\n",
       "      <td>3342.617920</td>\n",
       "    </tr>\n",
       "    <tr>\n",
       "      <th>450</th>\n",
       "      <td>0</td>\n",
       "      <td>17.0</td>\n",
       "      <td>9.0</td>\n",
       "      <td>1.0</td>\n",
       "      <td>0.0</td>\n",
       "      <td>0.0</td>\n",
       "      <td>1.0</td>\n",
       "      <td>0.000000</td>\n",
       "      <td>297.193512</td>\n",
       "      <td>54.675880</td>\n",
       "    </tr>\n",
       "    <tr>\n",
       "      <th>530</th>\n",
       "      <td>0</td>\n",
       "      <td>55.0</td>\n",
       "      <td>3.0</td>\n",
       "      <td>0.0</td>\n",
       "      <td>0.0</td>\n",
       "      <td>0.0</td>\n",
       "      <td>1.0</td>\n",
       "      <td>1208.868042</td>\n",
       "      <td>0.000000</td>\n",
       "      <td>0.000000</td>\n",
       "    </tr>\n",
       "    <tr>\n",
       "      <th>208</th>\n",
       "      <td>0</td>\n",
       "      <td>47.0</td>\n",
       "      <td>8.0</td>\n",
       "      <td>1.0</td>\n",
       "      <td>0.0</td>\n",
       "      <td>1.0</td>\n",
       "      <td>1.0</td>\n",
       "      <td>9275.168945</td>\n",
       "      <td>8543.418945</td>\n",
       "      <td>0.000000</td>\n",
       "    </tr>\n",
       "    <tr>\n",
       "      <th>59</th>\n",
       "      <td>1</td>\n",
       "      <td>22.0</td>\n",
       "      <td>11.0</td>\n",
       "      <td>0.0</td>\n",
       "      <td>0.0</td>\n",
       "      <td>0.0</td>\n",
       "      <td>1.0</td>\n",
       "      <td>0.000000</td>\n",
       "      <td>0.000000</td>\n",
       "      <td>1048.432007</td>\n",
       "    </tr>\n",
       "    <tr>\n",
       "      <th>443</th>\n",
       "      <td>0</td>\n",
       "      <td>24.0</td>\n",
       "      <td>12.0</td>\n",
       "      <td>0.0</td>\n",
       "      <td>0.0</td>\n",
       "      <td>1.0</td>\n",
       "      <td>0.0</td>\n",
       "      <td>9051.813477</td>\n",
       "      <td>327.628998</td>\n",
       "      <td>8547.170898</td>\n",
       "    </tr>\n",
       "    <tr>\n",
       "      <th>594</th>\n",
       "      <td>0</td>\n",
       "      <td>42.0</td>\n",
       "      <td>16.0</td>\n",
       "      <td>0.0</td>\n",
       "      <td>0.0</td>\n",
       "      <td>0.0</td>\n",
       "      <td>0.0</td>\n",
       "      <td>0.000000</td>\n",
       "      <td>0.000000</td>\n",
       "      <td>23764.800781</td>\n",
       "    </tr>\n",
       "  </tbody>\n",
       "</table>\n",
       "</div>"
      ],
      "text/plain": [
       "     treat   age  education  black  hispanic  married  nodegree         re74  \\\n",
       "275      0  30.0       16.0    0.0       0.0      0.0       0.0  3093.681885   \n",
       "477      0  31.0       12.0    1.0       0.0      1.0       0.0     0.000000   \n",
       "332      0  24.0       10.0    0.0       0.0      1.0       1.0  4719.874023   \n",
       "493      0  22.0       12.0    0.0       0.0      1.0       0.0  9022.423828   \n",
       "450      0  17.0        9.0    1.0       0.0      0.0       1.0     0.000000   \n",
       "530      0  55.0        3.0    0.0       0.0      0.0       1.0  1208.868042   \n",
       "208      0  47.0        8.0    1.0       0.0      1.0       1.0  9275.168945   \n",
       "59       1  22.0       11.0    0.0       0.0      0.0       1.0     0.000000   \n",
       "443      0  24.0       12.0    0.0       0.0      1.0       0.0  9051.813477   \n",
       "594      0  42.0       16.0    0.0       0.0      0.0       0.0     0.000000   \n",
       "\n",
       "            re75          re78  \n",
       "275  4468.645020  15538.290039  \n",
       "477    42.967739  11023.839844  \n",
       "332  2565.531982   2173.736084  \n",
       "493     0.000000   3342.617920  \n",
       "450   297.193512     54.675880  \n",
       "530     0.000000      0.000000  \n",
       "208  8543.418945      0.000000  \n",
       "59      0.000000   1048.432007  \n",
       "443   327.628998   8547.170898  \n",
       "594     0.000000  23764.800781  "
      ]
     },
     "execution_count": 10,
     "metadata": {},
     "output_type": "execute_result"
    }
   ],
   "source": [
    "df = pd.concat(\n",
    "    [\n",
    "        pd.read_stata(RCT_DATA).query(\"treat>0\"),  # (失業者介入実験データ)nsw data の介入群のみ抽出\n",
    "        pd.read_stata(CPS_DATA),  # 別のセンサスデータ\n",
    "    ]\n",
    ").reset_index(drop=True)\n",
    "\n",
    "del df[\"data_id\"]  # 不要なので消す\n",
    "\n",
    "df[\"treat\"] = df[\"treat\"].astype(int)\n",
    "df.sample(10)"
   ]
  },
  {
   "cell_type": "code",
   "execution_count": 11,
   "metadata": {},
   "outputs": [
    {
     "data": {
      "text/html": [
       "<style  type=\"text/css\" >\n",
       "#T_c5c73_row0_col0,#T_c5c73_row0_col1,#T_c5c73_row0_col2,#T_c5c73_row0_col3,#T_c5c73_row0_col4,#T_c5c73_row0_col5,#T_c5c73_row0_col6,#T_c5c73_row0_col7,#T_c5c73_row0_col8,#T_c5c73_row0_col9,#T_c5c73_row1_col0,#T_c5c73_row1_col1,#T_c5c73_row1_col2,#T_c5c73_row1_col3,#T_c5c73_row1_col4,#T_c5c73_row1_col5,#T_c5c73_row1_col6,#T_c5c73_row1_col7,#T_c5c73_row1_col8,#T_c5c73_row1_col9,#T_c5c73_row3_col0,#T_c5c73_row3_col1,#T_c5c73_row3_col2,#T_c5c73_row3_col3,#T_c5c73_row3_col4,#T_c5c73_row3_col5,#T_c5c73_row3_col6,#T_c5c73_row3_col7,#T_c5c73_row3_col8,#T_c5c73_row3_col9,#T_c5c73_row4_col0,#T_c5c73_row4_col1,#T_c5c73_row4_col2,#T_c5c73_row4_col3,#T_c5c73_row4_col4,#T_c5c73_row4_col5,#T_c5c73_row4_col6,#T_c5c73_row4_col7,#T_c5c73_row4_col8,#T_c5c73_row4_col9,#T_c5c73_row5_col0,#T_c5c73_row5_col1,#T_c5c73_row5_col2,#T_c5c73_row5_col3,#T_c5c73_row5_col4,#T_c5c73_row5_col5,#T_c5c73_row5_col6,#T_c5c73_row5_col7,#T_c5c73_row5_col8,#T_c5c73_row5_col9,#T_c5c73_row6_col0,#T_c5c73_row6_col1,#T_c5c73_row6_col2,#T_c5c73_row6_col3,#T_c5c73_row6_col4,#T_c5c73_row6_col5,#T_c5c73_row6_col6,#T_c5c73_row6_col7,#T_c5c73_row6_col8,#T_c5c73_row6_col9,#T_c5c73_row7_col0,#T_c5c73_row7_col1,#T_c5c73_row7_col2,#T_c5c73_row7_col3,#T_c5c73_row7_col4,#T_c5c73_row7_col5,#T_c5c73_row7_col6,#T_c5c73_row7_col7,#T_c5c73_row7_col8,#T_c5c73_row7_col9{\n",
       "            color: purple;\n",
       "        }</style><table id=\"T_c5c73_\" ><thead>    <tr>        <th class=\"blank level0\" ></th>        <th class=\"col_heading level0 col0\" colspan=\"2\">count</th>        <th class=\"col_heading level0 col2\" colspan=\"2\">mean</th>        <th class=\"col_heading level0 col4\" colspan=\"2\">median</th>        <th class=\"col_heading level0 col6\" colspan=\"2\">std</th>        <th class=\"col_heading level0 col8\" >t_statistic</th>        <th class=\"col_heading level0 col9\" >p_value</th>    </tr>    <tr>        <th class=\"index_name level1\" >treat</th>        <th class=\"col_heading level1 col0\" >0</th>        <th class=\"col_heading level1 col1\" >1</th>        <th class=\"col_heading level1 col2\" >0</th>        <th class=\"col_heading level1 col3\" >1</th>        <th class=\"col_heading level1 col4\" >0</th>        <th class=\"col_heading level1 col5\" >1</th>        <th class=\"col_heading level1 col6\" >0</th>        <th class=\"col_heading level1 col7\" >1</th>        <th class=\"col_heading level1 col8\" ></th>        <th class=\"col_heading level1 col9\" ></th>    </tr></thead><tbody>\n",
       "                <tr>\n",
       "                        <th id=\"T_c5c73_level0_row0\" class=\"row_heading level0 row0\" >age</th>\n",
       "                        <td id=\"T_c5c73_row0_col0\" class=\"data row0 col0\" >429</td>\n",
       "                        <td id=\"T_c5c73_row0_col1\" class=\"data row0 col1\" >185</td>\n",
       "                        <td id=\"T_c5c73_row0_col2\" class=\"data row0 col2\" >28.030304</td>\n",
       "                        <td id=\"T_c5c73_row0_col3\" class=\"data row0 col3\" >25.816216</td>\n",
       "                        <td id=\"T_c5c73_row0_col4\" class=\"data row0 col4\" >25.000000</td>\n",
       "                        <td id=\"T_c5c73_row0_col5\" class=\"data row0 col5\" >25.000000</td>\n",
       "                        <td id=\"T_c5c73_row0_col6\" class=\"data row0 col6\" >10.786653</td>\n",
       "                        <td id=\"T_c5c73_row0_col7\" class=\"data row0 col7\" >7.155019</td>\n",
       "                        <td id=\"T_c5c73_row0_col8\" class=\"data row0 col8\" >2.991074</td>\n",
       "                        <td id=\"T_c5c73_row0_col9\" class=\"data row0 col9\" >0.002914</td>\n",
       "            </tr>\n",
       "            <tr>\n",
       "                        <th id=\"T_c5c73_level0_row1\" class=\"row_heading level0 row1\" >black</th>\n",
       "                        <td id=\"T_c5c73_row1_col0\" class=\"data row1 col0\" >429</td>\n",
       "                        <td id=\"T_c5c73_row1_col1\" class=\"data row1 col1\" >185</td>\n",
       "                        <td id=\"T_c5c73_row1_col2\" class=\"data row1 col2\" >0.202797</td>\n",
       "                        <td id=\"T_c5c73_row1_col3\" class=\"data row1 col3\" >0.843243</td>\n",
       "                        <td id=\"T_c5c73_row1_col4\" class=\"data row1 col4\" >0.000000</td>\n",
       "                        <td id=\"T_c5c73_row1_col5\" class=\"data row1 col5\" >1.000000</td>\n",
       "                        <td id=\"T_c5c73_row1_col6\" class=\"data row1 col6\" >0.402552</td>\n",
       "                        <td id=\"T_c5c73_row1_col7\" class=\"data row1 col7\" >0.364558</td>\n",
       "                        <td id=\"T_c5c73_row1_col8\" class=\"data row1 col8\" >-19.344264</td>\n",
       "                        <td id=\"T_c5c73_row1_col9\" class=\"data row1 col9\" >0.000000</td>\n",
       "            </tr>\n",
       "            <tr>\n",
       "                        <th id=\"T_c5c73_level0_row2\" class=\"row_heading level0 row2\" >education</th>\n",
       "                        <td id=\"T_c5c73_row2_col0\" class=\"data row2 col0\" >429</td>\n",
       "                        <td id=\"T_c5c73_row2_col1\" class=\"data row2 col1\" >185</td>\n",
       "                        <td id=\"T_c5c73_row2_col2\" class=\"data row2 col2\" >10.235432</td>\n",
       "                        <td id=\"T_c5c73_row2_col3\" class=\"data row2 col3\" >10.345946</td>\n",
       "                        <td id=\"T_c5c73_row2_col4\" class=\"data row2 col4\" >11.000000</td>\n",
       "                        <td id=\"T_c5c73_row2_col5\" class=\"data row2 col5\" >11.000000</td>\n",
       "                        <td id=\"T_c5c73_row2_col6\" class=\"data row2 col6\" >2.855238</td>\n",
       "                        <td id=\"T_c5c73_row2_col7\" class=\"data row2 col7\" >2.010650</td>\n",
       "                        <td id=\"T_c5c73_row2_col8\" class=\"data row2 col8\" >-0.546756</td>\n",
       "                        <td id=\"T_c5c73_row2_col9\" class=\"data row2 col9\" >0.584798</td>\n",
       "            </tr>\n",
       "            <tr>\n",
       "                        <th id=\"T_c5c73_level0_row3\" class=\"row_heading level0 row3\" >hispanic</th>\n",
       "                        <td id=\"T_c5c73_row3_col0\" class=\"data row3 col0\" >429</td>\n",
       "                        <td id=\"T_c5c73_row3_col1\" class=\"data row3 col1\" >185</td>\n",
       "                        <td id=\"T_c5c73_row3_col2\" class=\"data row3 col2\" >0.142191</td>\n",
       "                        <td id=\"T_c5c73_row3_col3\" class=\"data row3 col3\" >0.059459</td>\n",
       "                        <td id=\"T_c5c73_row3_col4\" class=\"data row3 col4\" >0.000000</td>\n",
       "                        <td id=\"T_c5c73_row3_col5\" class=\"data row3 col5\" >0.000000</td>\n",
       "                        <td id=\"T_c5c73_row3_col6\" class=\"data row3 col6\" >0.349654</td>\n",
       "                        <td id=\"T_c5c73_row3_col7\" class=\"data row3 col7\" >0.237124</td>\n",
       "                        <td id=\"T_c5c73_row3_col8\" class=\"data row3 col8\" >3.409136</td>\n",
       "                        <td id=\"T_c5c73_row3_col9\" class=\"data row3 col9\" >0.000704</td>\n",
       "            </tr>\n",
       "            <tr>\n",
       "                        <th id=\"T_c5c73_level0_row4\" class=\"row_heading level0 row4\" >married</th>\n",
       "                        <td id=\"T_c5c73_row4_col0\" class=\"data row4 col0\" >429</td>\n",
       "                        <td id=\"T_c5c73_row4_col1\" class=\"data row4 col1\" >185</td>\n",
       "                        <td id=\"T_c5c73_row4_col2\" class=\"data row4 col2\" >0.512821</td>\n",
       "                        <td id=\"T_c5c73_row4_col3\" class=\"data row4 col3\" >0.189189</td>\n",
       "                        <td id=\"T_c5c73_row4_col4\" class=\"data row4 col4\" >1.000000</td>\n",
       "                        <td id=\"T_c5c73_row4_col5\" class=\"data row4 col5\" >0.000000</td>\n",
       "                        <td id=\"T_c5c73_row4_col6\" class=\"data row4 col6\" >0.500419</td>\n",
       "                        <td id=\"T_c5c73_row4_col7\" class=\"data row4 col7\" >0.392722</td>\n",
       "                        <td id=\"T_c5c73_row4_col8\" class=\"data row4 col8\" >8.596140</td>\n",
       "                        <td id=\"T_c5c73_row4_col9\" class=\"data row4 col9\" >0.000000</td>\n",
       "            </tr>\n",
       "            <tr>\n",
       "                        <th id=\"T_c5c73_level0_row5\" class=\"row_heading level0 row5\" >nodegree</th>\n",
       "                        <td id=\"T_c5c73_row5_col0\" class=\"data row5 col0\" >429</td>\n",
       "                        <td id=\"T_c5c73_row5_col1\" class=\"data row5 col1\" >185</td>\n",
       "                        <td id=\"T_c5c73_row5_col2\" class=\"data row5 col2\" >0.596737</td>\n",
       "                        <td id=\"T_c5c73_row5_col3\" class=\"data row5 col3\" >0.708108</td>\n",
       "                        <td id=\"T_c5c73_row5_col4\" class=\"data row5 col4\" >1.000000</td>\n",
       "                        <td id=\"T_c5c73_row5_col5\" class=\"data row5 col5\" >1.000000</td>\n",
       "                        <td id=\"T_c5c73_row5_col6\" class=\"data row5 col6\" >0.491126</td>\n",
       "                        <td id=\"T_c5c73_row5_col7\" class=\"data row5 col7\" >0.455867</td>\n",
       "                        <td id=\"T_c5c73_row5_col8\" class=\"data row5 col8\" >-2.712695</td>\n",
       "                        <td id=\"T_c5c73_row5_col9\" class=\"data row5 col9\" >0.006982</td>\n",
       "            </tr>\n",
       "            <tr>\n",
       "                        <th id=\"T_c5c73_level0_row6\" class=\"row_heading level0 row6\" >re74</th>\n",
       "                        <td id=\"T_c5c73_row6_col0\" class=\"data row6 col0\" >429</td>\n",
       "                        <td id=\"T_c5c73_row6_col1\" class=\"data row6 col1\" >185</td>\n",
       "                        <td id=\"T_c5c73_row6_col2\" class=\"data row6 col2\" >5619.236328</td>\n",
       "                        <td id=\"T_c5c73_row6_col3\" class=\"data row6 col3\" >2095.573730</td>\n",
       "                        <td id=\"T_c5c73_row6_col4\" class=\"data row6 col4\" >2547.047119</td>\n",
       "                        <td id=\"T_c5c73_row6_col5\" class=\"data row6 col5\" >0.000000</td>\n",
       "                        <td id=\"T_c5c73_row6_col6\" class=\"data row6 col6\" >6788.750819</td>\n",
       "                        <td id=\"T_c5c73_row6_col7\" class=\"data row6 col7\" >4886.620354</td>\n",
       "                        <td id=\"T_c5c73_row6_col8\" class=\"data row6 col8\" >7.245594</td>\n",
       "                        <td id=\"T_c5c73_row6_col9\" class=\"data row6 col9\" >0.000000</td>\n",
       "            </tr>\n",
       "            <tr>\n",
       "                        <th id=\"T_c5c73_level0_row7\" class=\"row_heading level0 row7\" >re75</th>\n",
       "                        <td id=\"T_c5c73_row7_col0\" class=\"data row7 col0\" >429</td>\n",
       "                        <td id=\"T_c5c73_row7_col1\" class=\"data row7 col1\" >185</td>\n",
       "                        <td id=\"T_c5c73_row7_col2\" class=\"data row7 col2\" >2466.484375</td>\n",
       "                        <td id=\"T_c5c73_row7_col3\" class=\"data row7 col3\" >1532.055298</td>\n",
       "                        <td id=\"T_c5c73_row7_col4\" class=\"data row7 col4\" >1086.725952</td>\n",
       "                        <td id=\"T_c5c73_row7_col5\" class=\"data row7 col5\" >0.000000</td>\n",
       "                        <td id=\"T_c5c73_row7_col6\" class=\"data row7 col6\" >3291.996191</td>\n",
       "                        <td id=\"T_c5c73_row7_col7\" class=\"data row7 col7\" >3219.250879</td>\n",
       "                        <td id=\"T_c5c73_row7_col8\" class=\"data row7 col8\" >3.277570</td>\n",
       "                        <td id=\"T_c5c73_row7_col9\" class=\"data row7 col9\" >0.001150</td>\n",
       "            </tr>\n",
       "            <tr>\n",
       "                        <th id=\"T_c5c73_level0_row8\" class=\"row_heading level0 row8\" >re78</th>\n",
       "                        <td id=\"T_c5c73_row8_col0\" class=\"data row8 col0\" >429</td>\n",
       "                        <td id=\"T_c5c73_row8_col1\" class=\"data row8 col1\" >185</td>\n",
       "                        <td id=\"T_c5c73_row8_col2\" class=\"data row8 col2\" >6984.169922</td>\n",
       "                        <td id=\"T_c5c73_row8_col3\" class=\"data row8 col3\" >6349.143555</td>\n",
       "                        <td id=\"T_c5c73_row8_col4\" class=\"data row8 col4\" >4975.504883</td>\n",
       "                        <td id=\"T_c5c73_row8_col5\" class=\"data row8 col5\" >4232.309082</td>\n",
       "                        <td id=\"T_c5c73_row8_col6\" class=\"data row8 col6\" >7294.161803</td>\n",
       "                        <td id=\"T_c5c73_row8_col7\" class=\"data row8 col7\" >7867.402183</td>\n",
       "                        <td id=\"T_c5c73_row8_col8\" class=\"data row8 col8\" >0.937730</td>\n",
       "                        <td id=\"T_c5c73_row8_col9\" class=\"data row8 col9\" >0.349077</td>\n",
       "            </tr>\n",
       "    </tbody></table>"
      ],
      "text/plain": [
       "<pandas.io.formats.style.Styler at 0x7ffe1e3bd550>"
      ]
     },
     "execution_count": 11,
     "metadata": {},
     "output_type": "execute_result"
    }
   ],
   "source": [
    "base_values = [col for col in df.columns if col != \"treat\"]\n",
    "_pivot = pd.pivot_table(\n",
    "    df,\n",
    "    columns=\"treat\",\n",
    "    values=base_values,\n",
    "    # margins=True,\n",
    "    aggfunc=[\"count\", np.mean, np.median, np.std],\n",
    ")\n",
    "_pivot[\"t_statistic\"] = 0\n",
    "_pivot[\"p_value\"] = 0\n",
    "\n",
    "for _value in base_values:\n",
    "    _stat, _p = stats.ttest_ind(\n",
    "        *df.dropna(subset=[_value])\n",
    "        .groupby(\"treat\")[_value]\n",
    "        .apply(lambda x: list(x)),\n",
    "        equal_var=False\n",
    "    )\n",
    "    _pivot.loc[_value, \"t_statistic\"] = _stat\n",
    "    _pivot.loc[_value, \"p_value\"] = _p\n",
    "\n",
    "_pivot.style.apply(p_value_color, axis=None)"
   ]
  },
  {
   "cell_type": "code",
   "execution_count": 12,
   "metadata": {},
   "outputs": [],
   "source": [
    "y_col = \"re78\"\n",
    "d_col = \"treat\"\n",
    "x_cols = [col for col in df.columns if col not in [d_col , y_col]]"
   ]
  },
  {
   "cell_type": "code",
   "execution_count": 13,
   "metadata": {},
   "outputs": [
    {
     "name": "stdout",
     "output_type": "stream",
     "text": [
      "re78 ~ treat + age + education + black + hispanic + married + nodegree + re74 + re75\n"
     ]
    },
    {
     "data": {
      "text/plain": [
       "1548.2437523585047"
      ]
     },
     "execution_count": 13,
     "metadata": {},
     "output_type": "execute_result"
    }
   ],
   "source": [
    "multi_formula = \"re78 ~ \"\n",
    "for i, _featuer in enumerate(all_featuers):\n",
    "    if i == 0:\n",
    "        multi_formula += f\"{_featuer}\"\n",
    "    else:\n",
    "        multi_formula += f\" + {_featuer}\"\n",
    "print(multi_formula)\n",
    "\n",
    "multi_regression = smf.ols(multi_formula, data=df).fit()\n",
    "multi_regression.params[\"treat\"]"
   ]
  },
  {
   "cell_type": "markdown",
   "metadata": {},
   "source": [
    "## IPW estimation for ATT"
   ]
  },
  {
   "cell_type": "code",
   "execution_count": 14,
   "metadata": {},
   "outputs": [
    {
     "data": {
      "image/png": "[encoded data removed]",
      "text/plain": [
       "<Figure size 1080x720 with 2 Axes>"
      ]
     },
     "metadata": {
      "needs_background": "light"
     },
     "output_type": "display_data"
    }
   ],
   "source": [
    "# ps modeling\n",
    "ps_featuers = x_cols\n",
    "ps_formula = \"treat ~ \"\n",
    "for i, _featuer in enumerate(ps_featuers):\n",
    "    if i == 0:\n",
    "        ps_formula += f\"{_featuer}\"\n",
    "    else:\n",
    "        ps_formula += f\" + {_featuer}\"\n",
    "ps_formula += \"+ I(re74**2) + I(re75**2) + I(age**2) + I(education**2)\"\n",
    "\n",
    "ps_result = smf.glm(ps_formula, data=df, family= sm.families.Binomial()).fit()\n",
    "df[\"ps\"] = ps_result.predict()\n",
    "\n",
    "plt.figure(figsize=(15, 10))\n",
    "plt.subplot(211)\n",
    "df.query(\"treat>0\")[\"ps\"].hist(bins=100)\n",
    "plt.title(\"treatment\")\n",
    "\n",
    "plt.subplot(212)\n",
    "df.query(\"treat<1\")[\"ps\"].hist(bins=100)\n",
    "plt.title(\"control\")\n",
    "plt.show()"
   ]
  },
  {
   "cell_type": "markdown",
   "metadata": {},
   "source": [
    "### IPW のATT版は以下のようなweightになる\n",
    "- ps : 傾向スコア\n",
    "- $D_i$ : 介入有無\n",
    "\n",
    "$$\n",
    "w_i^{ATT} = D_i + (1- D_i)\\dfrac{ps}{1-ps}\n",
    "$$\n",
    "つまり\n",
    "- 介入群にはそのまま weight = 1\n",
    "- 統制群はweight = $ \\frac{ps}{1-ps} $"
   ]
  },
  {
   "cell_type": "code",
   "execution_count": 15,
   "metadata": {},
   "outputs": [],
   "source": [
    "# ATT\n",
    "df[\"weight\"] = df.apply(lambda x: 1 if x[\"treat\"] >0 else x[\"ps\"]/(1-x[\"ps\"]), axis=1)"
   ]
  },
  {
   "cell_type": "code",
   "execution_count": 16,
   "metadata": {},
   "outputs": [
    {
     "data": {
      "image/png": "[encoded data removed]",
      "text/plain": [
       "<Figure size 1440x504 with 2 Axes>"
      ]
     },
     "metadata": {
      "needs_background": "light"
     },
     "output_type": "display_data"
    }
   ],
   "source": [
    "# 可視化\n",
    "ps0 = df.ps[df.treat == 0]\n",
    "ps1 = df.ps[df.treat == 1]\n",
    "\n",
    "bins = np.arange(0, 1.05, 0.05)\n",
    "hist0, _ = np.histogram(ps0, bins=bins)\n",
    "hist1, _ = np.histogram(ps1, bins=bins)\n",
    "hist0 = hist0 / sum(hist0)\n",
    "hist1 = hist1 / sum(hist1)\n",
    "\n",
    "w0g = df[[\"weight\", \"ps\"]][df.treat == 0]\n",
    "w1g = df[[\"weight\", \"ps\"]][df.treat == 1]\n",
    "\n",
    "w0g[\"bins\"] = pd.cut(w0g[\"ps\"], bins)\n",
    "w1g[\"bins\"] = pd.cut(w1g[\"ps\"], bins)\n",
    "\n",
    "w0g = w0g.groupby(\"bins\").agg({\"bins\": \"count\", \"weight\": np.mean})\n",
    "w0g = w0g.eval(\"bins * weight\")\n",
    "\n",
    "w1g = w1g.groupby(\"bins\").agg({\"bins\": \"count\", \"weight\": np.mean})\n",
    "w1g = w1g.eval(\"bins * weight\")\n",
    "\n",
    "w_hist0 = w0g.fillna(0).values\n",
    "w_hist1 = w1g.fillna(0).values\n",
    "\n",
    "\n",
    "w_hist0 = w_hist0 / sum(w_hist0)\n",
    "w_hist1 = w_hist1 / sum(w_hist1)\n",
    "\n",
    "fig, ax = plt.subplots(ncols=2, figsize=(20, 7))\n",
    "# それぞれの値を調節\n",
    "plt.subplots_adjust(wspace=0.2)\n",
    "\n",
    "ax[0].bar(bins[:-1] + 0.025, hist0, width=0.04, facecolor=\"blue\", alpha=0.8)\n",
    "ax[0].bar(bins[:-1] + 0.025, -hist1, width=0.04, facecolor=\"red\", alpha=0.8)\n",
    "ax[0].axhline(0, c=\"black\")\n",
    "ax[0].set_ylabel(\"density\", fontsize=12)\n",
    "ax[0].set_ylim([-0.5, 0.5])\n",
    "ax[0].set_title(\"pre adjustment\", fontsize=12)\n",
    "ax[0].set_xlabel(\"propensity socre\", fontsize=12)\n",
    "\n",
    "ax[1].bar(bins[:-1] + 0.025, w_hist0, width=0.04, facecolor=\"blue\", alpha=0.8, label=\"control\")\n",
    "ax[1].bar(bins[:-1] + 0.025, -w_hist1, width=0.04, facecolor=\"red\", alpha=0.8, label=\"treatment\")\n",
    "ax[1].axhline(0, c=\"black\")\n",
    "ax[1].set_ylim([-0.5, 0.5])\n",
    "ax[1].set_title(\"post adjustment\", fontsize=12)\n",
    "ax[1].set_xlabel(\"propensity socre\", fontsize=12)\n",
    "plt.legend()\n",
    "plt.show()"
   ]
  },
  {
   "cell_type": "code",
   "execution_count": 17,
   "metadata": {},
   "outputs": [
    {
     "data": {
      "image/png": "[encoded data removed]",
      "text/plain": [
       "<Figure size 1080x576 with 1 Axes>"
      ]
     },
     "metadata": {
      "needs_background": "light"
     },
     "output_type": "display_data"
    }
   ],
   "source": [
    "# IPWのAbusolute Mean Difference\n",
    "def cal_weighted_mean_std(x, featuer=\"age\", weight=\"weight\", result_stats=\"mean\"):\n",
    "    # weighted_mean = np.average(x[featuer], weights=x[weight])\n",
    "    # weighted_std = np.sqrt(np.average((x[featuer]-weighted_mean)**2, weights=x[weight]))\n",
    "    # パッケージ発見\n",
    "    from statsmodels.stats.weightstats import DescrStatsW\n",
    "\n",
    "    weighted_stats = DescrStatsW(x[featuer], weights=x[weight], ddof=0)\n",
    "    if result_stats == \"mean\":\n",
    "        return weighted_stats.mean\n",
    "    else:\n",
    "        return weighted_stats.std\n",
    "\n",
    "\n",
    "def cal_weighted_abs_mean_diff(df):\n",
    "    featuers = [\n",
    "        \"age\",\n",
    "        \"education\",\n",
    "        \"black\",\n",
    "        \"hispanic\",\n",
    "        \"nodegree\",\n",
    "        \"married\",\n",
    "        \"re74\",\n",
    "        \"re75\",\n",
    "    ]\n",
    "    group_df = df.groupby(\"treat\")\n",
    "    result_dict = {}\n",
    "    for col in featuers:\n",
    "        weighted_mean = group_df.apply(cal_weighted_mean_std, featuer=col)\n",
    "        weighted_std = cal_weighted_mean_std(\n",
    "            df, featuer=col, weight=\"weight\", result_stats=\"std\"\n",
    "        )\n",
    "\n",
    "        result_dict[col] = abs(weighted_mean.diff()[1] / weighted_std)\n",
    "\n",
    "    return pd.DataFrame(result_dict, index=[\"weighted_abs_mean_diff\"]).T\n",
    "\n",
    "\n",
    "adjusted_balance = cal_weighted_abs_mean_diff(df)\n",
    "# 本当に特徴量がバランシングできているか確認する\n",
    "fig, ax = plt.subplots(figsize=(15, 8))\n",
    "ax.set_title(\"Covariate balance\", fontsize=14)\n",
    "ax.set_xlabel(\"Absolute Mean Difference\", fontsize=12)\n",
    "ax.set_ylabel(\"featuers\", fontsize=12)\n",
    "ax.barh(unadjusted_balance.index, unadjusted_balance, alpha=0.3, color=\"blue\")\n",
    "ax.barh(adjusted_balance.index, adjusted_balance[\"weighted_abs_mean_diff\"], alpha=0.8, color=\"red\")\n",
    "ax.axvline(x=0.1,alpha=0.5, color=\"black\",linestyle=\"dotted\")\n",
    "plt.show()"
   ]
  },
  {
   "cell_type": "code",
   "execution_count": 18,
   "metadata": {},
   "outputs": [
    {
     "data": {
      "text/plain": [
       "1840.953903041877"
      ]
     },
     "execution_count": 18,
     "metadata": {},
     "output_type": "execute_result"
    }
   ],
   "source": [
    "### 重み付きデータでの効果の推定\n",
    "y = df.re78\n",
    "X = df.treat\n",
    "X = sm.add_constant(X)\n",
    "ipw_result = sm.WLS(y, X, weights=df.weight).fit()\n",
    "ipw_result.params[\"treat\"]"
   ]
  },
  {
   "cell_type": "markdown",
   "metadata": {},
   "source": [
    "# DML"
   ]
  },
  {
   "cell_type": "code",
   "execution_count": 19,
   "metadata": {},
   "outputs": [],
   "source": [
    "dml = D2ML(\n",
    "    data=df,\n",
    "    t_col=d_col,\n",
    "    y_col=y_col,\n",
    "    x_cols_for_t=x_cols,\n",
    "    x_cols_for_y=x_cols,\n",
    "    x_cols_for_cate=x_cols,\n",
    "    t_model= LGBMClassifier(random_state=0),\n",
    "    outcome_model=LGBMRegressor(random_state=0),\n",
    "    cate_model=LGBMRegressor(random_state=0),\n",
    ")"
   ]
  },
  {
   "cell_type": "code",
   "execution_count": 20,
   "metadata": {},
   "outputs": [],
   "source": [
    "dml.fit_ate()\n",
    "dml.fit_nonlinear_cate()"
   ]
  },
  {
   "cell_type": "code",
   "execution_count": 51,
   "metadata": {},
   "outputs": [
    {
     "data": {
      "text/html": [
       "<div>\n",
       "<style scoped>\n",
       "    .dataframe tbody tr th:only-of-type {\n",
       "        vertical-align: middle;\n",
       "    }\n",
       "\n",
       "    .dataframe tbody tr th {\n",
       "        vertical-align: top;\n",
       "    }\n",
       "\n",
       "    .dataframe thead th {\n",
       "        text-align: right;\n",
       "    }\n",
       "</style>\n",
       "<table border=\"1\" class=\"dataframe\">\n",
       "  <thead>\n",
       "    <tr style=\"text-align: right;\">\n",
       "      <th></th>\n",
       "      <th>effect</th>\n",
       "      <th>standard_error</th>\n",
       "      <th>z_stat</th>\n",
       "      <th>p_value</th>\n",
       "      <th>CI 0.05</th>\n",
       "      <th>CI 0.95</th>\n",
       "    </tr>\n",
       "  </thead>\n",
       "  <tbody>\n",
       "    <tr>\n",
       "      <th>t</th>\n",
       "      <td>562.217513</td>\n",
       "      <td>1013.608719</td>\n",
       "      <td>0.554669</td>\n",
       "      <td>0.579121</td>\n",
       "      <td>-1424.419071</td>\n",
       "      <td>2548.854098</td>\n",
       "    </tr>\n",
       "  </tbody>\n",
       "</table>\n",
       "</div>"
      ],
      "text/plain": [
       "       effect  standard_error    z_stat   p_value      CI 0.05      CI 0.95\n",
       "t  562.217513     1013.608719  0.554669  0.579121 -1424.419071  2548.854098"
      ]
     },
     "execution_count": 51,
     "metadata": {},
     "output_type": "execute_result"
    }
   ],
   "source": [
    "dml.summary(effect_type=\"ate\")"
   ]
  },
  {
   "cell_type": "code",
   "execution_count": 21,
   "metadata": {},
   "outputs": [
    {
     "name": "stderr",
     "output_type": "stream",
     "text": [
      "100%|██████████| 100/100 [00:45<00:00,  2.22it/s]\n"
     ]
    },
    {
     "data": {
      "text/html": [
       "<div>\n",
       "<style scoped>\n",
       "    .dataframe tbody tr th:only-of-type {\n",
       "        vertical-align: middle;\n",
       "    }\n",
       "\n",
       "    .dataframe tbody tr th {\n",
       "        vertical-align: top;\n",
       "    }\n",
       "\n",
       "    .dataframe thead th {\n",
       "        text-align: right;\n",
       "    }\n",
       "</style>\n",
       "<table border=\"1\" class=\"dataframe\">\n",
       "  <thead>\n",
       "    <tr style=\"text-align: right;\">\n",
       "      <th></th>\n",
       "      <th>effect</th>\n",
       "      <th>standard_error</th>\n",
       "      <th>z_stat</th>\n",
       "      <th>p_value</th>\n",
       "      <th>CI 0.05</th>\n",
       "      <th>CI 0.95</th>\n",
       "    </tr>\n",
       "  </thead>\n",
       "  <tbody>\n",
       "    <tr>\n",
       "      <th>t</th>\n",
       "      <td>1663.972451</td>\n",
       "      <td>3226.850028</td>\n",
       "      <td>0.515665</td>\n",
       "      <td>0.606089</td>\n",
       "      <td>-4660.537387</td>\n",
       "      <td>7988.482289</td>\n",
       "    </tr>\n",
       "  </tbody>\n",
       "</table>\n",
       "</div>"
      ],
      "text/plain": [
       "        effect  standard_error    z_stat   p_value      CI 0.05      CI 0.95\n",
       "t  1663.972451     3226.850028  0.515665  0.606089 -4660.537387  7988.482289"
      ]
     },
     "execution_count": 21,
     "metadata": {},
     "output_type": "execute_result"
    }
   ],
   "source": [
    "dml.summary(effect_type=\"att\")"
   ]
  },
  {
   "cell_type": "code",
   "execution_count": 22,
   "metadata": {},
   "outputs": [
    {
     "data": {
      "image/png": "[encoded data removed]",
      "text/plain": [
       "<Figure size 432x288 with 1 Axes>"
      ]
     },
     "metadata": {
      "needs_background": "light"
     },
     "output_type": "display_data"
    }
   ],
   "source": [
    "fig = plt.figure()\n",
    "ax = fig.add_subplot(1, 1, 1)\n",
    "\n",
    "sns.kdeplot(dml._bootstrap_att,shade=True, color='red', ax=ax)\n",
    "ax.set_title(\n",
    "    f\"bootstrap simulation : estimated ATT {dml._att:.4f},  RCT_result={rct_effect:.4f}\"\n",
    ")\n",
    "ax.set_xlabel(\"ATT\")\n",
    "ax.set_ylabel(\"freq\")\n",
    "ax.axvline(x=dml._att, color=\"black\")\n",
    "ax.axvline(x=rct_effect, color=\"black\", linestyle=\"--\")\n",
    "fig.show()"
   ]
  },
  {
   "cell_type": "code",
   "execution_count": 23,
   "metadata": {},
   "outputs": [
    {
     "data": {
      "text/html": [
       "<div>\n",
       "<style scoped>\n",
       "    .dataframe tbody tr th:only-of-type {\n",
       "        vertical-align: middle;\n",
       "    }\n",
       "\n",
       "    .dataframe tbody tr th {\n",
       "        vertical-align: top;\n",
       "    }\n",
       "\n",
       "    .dataframe thead th {\n",
       "        text-align: right;\n",
       "    }\n",
       "</style>\n",
       "<table border=\"1\" class=\"dataframe\">\n",
       "  <thead>\n",
       "    <tr style=\"text-align: right;\">\n",
       "      <th></th>\n",
       "      <th>Estimated tau</th>\n",
       "      <th>Absolute Error</th>\n",
       "    </tr>\n",
       "  </thead>\n",
       "  <tbody>\n",
       "    <tr>\n",
       "      <th>rct</th>\n",
       "      <td>1676.342625</td>\n",
       "      <td>NaN</td>\n",
       "    </tr>\n",
       "    <tr>\n",
       "      <th>multi-regression (OLS)</th>\n",
       "      <td>1548.243752</td>\n",
       "      <td>128.098873</td>\n",
       "    </tr>\n",
       "    <tr>\n",
       "      <th>IPW for ATT</th>\n",
       "      <td>1840.953903</td>\n",
       "      <td>164.611278</td>\n",
       "    </tr>\n",
       "    <tr>\n",
       "      <th>DML for ATT</th>\n",
       "      <td>1663.972451</td>\n",
       "      <td>12.370174</td>\n",
       "    </tr>\n",
       "  </tbody>\n",
       "</table>\n",
       "</div>"
      ],
      "text/plain": [
       "                        Estimated tau  Absolute Error\n",
       "rct                       1676.342625             NaN\n",
       "multi-regression (OLS)    1548.243752      128.098873\n",
       "IPW for ATT               1840.953903      164.611278\n",
       "DML for ATT               1663.972451       12.370174"
      ]
     },
     "execution_count": 23,
     "metadata": {},
     "output_type": "execute_result"
    }
   ],
   "source": [
    "pd.DataFrame(\n",
    "    {\n",
    "        \"rct\": [rct_effect, None],\n",
    "        \"multi-regression (OLS)\": [\n",
    "            multi_regression.params[\"treat\"],\n",
    "            abs(multi_regression.params[\"treat\"] - rct_effect),\n",
    "        ],\n",
    "        \"IPW for ATT\": [\n",
    "            ipw_result.params[\"treat\"],\n",
    "            abs(ipw_result.params[\"treat\"] - rct_effect),\n",
    "        ],\n",
    "        \"DML for ATT\": [dml._att, abs(dml._att - rct_effect)],\n",
    "    },\n",
    "    index=[\"Estimated tau\", \"Absolute Error\"],\n",
    ").T"
   ]
  },
  {
   "cell_type": "markdown",
   "metadata": {},
   "source": [
    "## meta-learner\n"
   ]
  },
  {
   "cell_type": "code",
   "execution_count": 24,
   "metadata": {},
   "outputs": [],
   "source": [
    "from models.meta_learner import SLearner, TLearner, XLearner, DomainAdaptationLearner"
   ]
  },
  {
   "cell_type": "code",
   "execution_count": 25,
   "metadata": {},
   "outputs": [],
   "source": [
    "linear_slearner = SLearner(\n",
    "    data=df,\n",
    "    t_col=d_col,\n",
    "    y_col=y_col,\n",
    "    x_cols=x_cols,\n",
    "    outcome_model=LinearRegression(),\n",
    ")"
   ]
  },
  {
   "cell_type": "code",
   "execution_count": 26,
   "metadata": {},
   "outputs": [
    {
     "name": "stderr",
     "output_type": "stream",
     "text": [
      "100%|██████████| 100/100 [00:01<00:00, 55.39it/s]\n"
     ]
    },
    {
     "data": {
      "text/html": [
       "<div>\n",
       "<style scoped>\n",
       "    .dataframe tbody tr th:only-of-type {\n",
       "        vertical-align: middle;\n",
       "    }\n",
       "\n",
       "    .dataframe tbody tr th {\n",
       "        vertical-align: top;\n",
       "    }\n",
       "\n",
       "    .dataframe thead th {\n",
       "        text-align: right;\n",
       "    }\n",
       "</style>\n",
       "<table border=\"1\" class=\"dataframe\">\n",
       "  <thead>\n",
       "    <tr style=\"text-align: right;\">\n",
       "      <th></th>\n",
       "      <th>effect</th>\n",
       "      <th>standard_error</th>\n",
       "      <th>z_stat</th>\n",
       "      <th>p_value</th>\n",
       "      <th>CI 0.05</th>\n",
       "      <th>CI 0.95</th>\n",
       "    </tr>\n",
       "  </thead>\n",
       "  <tbody>\n",
       "    <tr>\n",
       "      <th>t</th>\n",
       "      <td>1548.372038</td>\n",
       "      <td>708.806206</td>\n",
       "      <td>2.184479</td>\n",
       "      <td>0.028927</td>\n",
       "      <td>159.137402</td>\n",
       "      <td>2937.606674</td>\n",
       "    </tr>\n",
       "  </tbody>\n",
       "</table>\n",
       "</div>"
      ],
      "text/plain": [
       "        effect  standard_error    z_stat   p_value     CI 0.05      CI 0.95\n",
       "t  1548.372038      708.806206  2.184479  0.028927  159.137402  2937.606674"
      ]
     },
     "execution_count": 26,
     "metadata": {},
     "output_type": "execute_result"
    }
   ],
   "source": [
    "linear_slearner.summary( effect_type=\"att\")"
   ]
  },
  {
   "cell_type": "code",
   "execution_count": 27,
   "metadata": {},
   "outputs": [
    {
     "data": {
      "text/html": [
       "<div>\n",
       "<style scoped>\n",
       "    .dataframe tbody tr th:only-of-type {\n",
       "        vertical-align: middle;\n",
       "    }\n",
       "\n",
       "    .dataframe tbody tr th {\n",
       "        vertical-align: top;\n",
       "    }\n",
       "\n",
       "    .dataframe thead th {\n",
       "        text-align: right;\n",
       "    }\n",
       "</style>\n",
       "<table border=\"1\" class=\"dataframe\">\n",
       "  <thead>\n",
       "    <tr style=\"text-align: right;\">\n",
       "      <th></th>\n",
       "      <th>effect</th>\n",
       "      <th>standard_error</th>\n",
       "      <th>z_stat</th>\n",
       "      <th>p_value</th>\n",
       "      <th>CI 0.05</th>\n",
       "      <th>CI 0.95</th>\n",
       "    </tr>\n",
       "  </thead>\n",
       "  <tbody>\n",
       "    <tr>\n",
       "      <th>t</th>\n",
       "      <td>1548.372038</td>\n",
       "      <td>708.806206</td>\n",
       "      <td>2.184479</td>\n",
       "      <td>0.028927</td>\n",
       "      <td>159.137402</td>\n",
       "      <td>2937.606674</td>\n",
       "    </tr>\n",
       "  </tbody>\n",
       "</table>\n",
       "</div>"
      ],
      "text/plain": [
       "        effect  standard_error    z_stat   p_value     CI 0.05      CI 0.95\n",
       "t  1548.372038      708.806206  2.184479  0.028927  159.137402  2937.606674"
      ]
     },
     "execution_count": 27,
     "metadata": {},
     "output_type": "execute_result"
    }
   ],
   "source": [
    "linear_slearner.summary( effect_type=\"ate\")"
   ]
  },
  {
   "cell_type": "code",
   "execution_count": 28,
   "metadata": {},
   "outputs": [],
   "source": [
    "slearner = SLearner(\n",
    "    data=df,\n",
    "    t_col=d_col,\n",
    "    y_col=y_col,\n",
    "    x_cols=x_cols,\n",
    "    outcome_model=LGBMRegressor(random_state=0),\n",
    ")"
   ]
  },
  {
   "cell_type": "code",
   "execution_count": 29,
   "metadata": {},
   "outputs": [
    {
     "name": "stderr",
     "output_type": "stream",
     "text": [
      "100%|██████████| 100/100 [00:06<00:00, 16.34it/s]\n"
     ]
    },
    {
     "data": {
      "text/html": [
       "<div>\n",
       "<style scoped>\n",
       "    .dataframe tbody tr th:only-of-type {\n",
       "        vertical-align: middle;\n",
       "    }\n",
       "\n",
       "    .dataframe tbody tr th {\n",
       "        vertical-align: top;\n",
       "    }\n",
       "\n",
       "    .dataframe thead th {\n",
       "        text-align: right;\n",
       "    }\n",
       "</style>\n",
       "<table border=\"1\" class=\"dataframe\">\n",
       "  <thead>\n",
       "    <tr style=\"text-align: right;\">\n",
       "      <th></th>\n",
       "      <th>effect</th>\n",
       "      <th>standard_error</th>\n",
       "      <th>z_stat</th>\n",
       "      <th>p_value</th>\n",
       "      <th>CI 0.05</th>\n",
       "      <th>CI 0.95</th>\n",
       "    </tr>\n",
       "  </thead>\n",
       "  <tbody>\n",
       "    <tr>\n",
       "      <th>t</th>\n",
       "      <td>821.905453</td>\n",
       "      <td>731.221711</td>\n",
       "      <td>1.124017</td>\n",
       "      <td>0.261006</td>\n",
       "      <td>-611.262766</td>\n",
       "      <td>2255.073672</td>\n",
       "    </tr>\n",
       "  </tbody>\n",
       "</table>\n",
       "</div>"
      ],
      "text/plain": [
       "       effect  standard_error    z_stat   p_value     CI 0.05      CI 0.95\n",
       "t  821.905453      731.221711  1.124017  0.261006 -611.262766  2255.073672"
      ]
     },
     "execution_count": 29,
     "metadata": {},
     "output_type": "execute_result"
    }
   ],
   "source": [
    "slearner.summary( effect_type=\"att\")"
   ]
  },
  {
   "cell_type": "code",
   "execution_count": 30,
   "metadata": {},
   "outputs": [
    {
     "data": {
      "text/html": [
       "<div>\n",
       "<style scoped>\n",
       "    .dataframe tbody tr th:only-of-type {\n",
       "        vertical-align: middle;\n",
       "    }\n",
       "\n",
       "    .dataframe tbody tr th {\n",
       "        vertical-align: top;\n",
       "    }\n",
       "\n",
       "    .dataframe thead th {\n",
       "        text-align: right;\n",
       "    }\n",
       "</style>\n",
       "<table border=\"1\" class=\"dataframe\">\n",
       "  <thead>\n",
       "    <tr style=\"text-align: right;\">\n",
       "      <th></th>\n",
       "      <th>effect</th>\n",
       "      <th>standard_error</th>\n",
       "      <th>z_stat</th>\n",
       "      <th>p_value</th>\n",
       "      <th>CI 0.05</th>\n",
       "      <th>CI 0.95</th>\n",
       "    </tr>\n",
       "  </thead>\n",
       "  <tbody>\n",
       "    <tr>\n",
       "      <th>t</th>\n",
       "      <td>574.856849</td>\n",
       "      <td>532.413612</td>\n",
       "      <td>1.079719</td>\n",
       "      <td>0.280268</td>\n",
       "      <td>-468.654656</td>\n",
       "      <td>1618.368354</td>\n",
       "    </tr>\n",
       "  </tbody>\n",
       "</table>\n",
       "</div>"
      ],
      "text/plain": [
       "       effect  standard_error    z_stat   p_value     CI 0.05      CI 0.95\n",
       "t  574.856849      532.413612  1.079719  0.280268 -468.654656  1618.368354"
      ]
     },
     "execution_count": 30,
     "metadata": {},
     "output_type": "execute_result"
    }
   ],
   "source": [
    "slearner.summary( effect_type=\"ate\")"
   ]
  },
  {
   "cell_type": "code",
   "execution_count": 31,
   "metadata": {},
   "outputs": [],
   "source": [
    "tlearner = TLearner(\n",
    "    data=df,\n",
    "    t_col=d_col,\n",
    "    y_col=y_col,\n",
    "    x_cols=x_cols,\n",
    "    outcome_model=LGBMRegressor(random_state=0),\n",
    ")"
   ]
  },
  {
   "cell_type": "code",
   "execution_count": 32,
   "metadata": {},
   "outputs": [
    {
     "name": "stderr",
     "output_type": "stream",
     "text": [
      "100%|██████████| 100/100 [00:07<00:00, 14.05it/s]\n"
     ]
    },
    {
     "data": {
      "text/html": [
       "<div>\n",
       "<style scoped>\n",
       "    .dataframe tbody tr th:only-of-type {\n",
       "        vertical-align: middle;\n",
       "    }\n",
       "\n",
       "    .dataframe tbody tr th {\n",
       "        vertical-align: top;\n",
       "    }\n",
       "\n",
       "    .dataframe thead th {\n",
       "        text-align: right;\n",
       "    }\n",
       "</style>\n",
       "<table border=\"1\" class=\"dataframe\">\n",
       "  <thead>\n",
       "    <tr style=\"text-align: right;\">\n",
       "      <th></th>\n",
       "      <th>effect</th>\n",
       "      <th>standard_error</th>\n",
       "      <th>z_stat</th>\n",
       "      <th>p_value</th>\n",
       "      <th>CI 0.05</th>\n",
       "      <th>CI 0.95</th>\n",
       "    </tr>\n",
       "  </thead>\n",
       "  <tbody>\n",
       "    <tr>\n",
       "      <th>t</th>\n",
       "      <td>794.218684</td>\n",
       "      <td>921.461522</td>\n",
       "      <td>0.861912</td>\n",
       "      <td>0.388736</td>\n",
       "      <td>-1011.812713</td>\n",
       "      <td>2600.250081</td>\n",
       "    </tr>\n",
       "  </tbody>\n",
       "</table>\n",
       "</div>"
      ],
      "text/plain": [
       "       effect  standard_error    z_stat   p_value      CI 0.05      CI 0.95\n",
       "t  794.218684      921.461522  0.861912  0.388736 -1011.812713  2600.250081"
      ]
     },
     "execution_count": 32,
     "metadata": {},
     "output_type": "execute_result"
    }
   ],
   "source": [
    "tlearner.summary( effect_type=\"att\")"
   ]
  },
  {
   "cell_type": "code",
   "execution_count": 33,
   "metadata": {},
   "outputs": [],
   "source": [
    "xlearner = XLearner(\n",
    "    data=df,\n",
    "    t_col=d_col,\n",
    "    y_col=y_col,\n",
    "    x_cols=x_cols,\n",
    "    t_model= LGBMClassifier(random_state=0),\n",
    "    outcome_model=LGBMRegressor(random_state=0),\n",
    ")"
   ]
  },
  {
   "cell_type": "code",
   "execution_count": 34,
   "metadata": {},
   "outputs": [
    {
     "name": "stderr",
     "output_type": "stream",
     "text": [
      "100%|██████████| 100/100 [00:33<00:00,  3.02it/s]\n"
     ]
    },
    {
     "data": {
      "text/html": [
       "<div>\n",
       "<style scoped>\n",
       "    .dataframe tbody tr th:only-of-type {\n",
       "        vertical-align: middle;\n",
       "    }\n",
       "\n",
       "    .dataframe tbody tr th {\n",
       "        vertical-align: top;\n",
       "    }\n",
       "\n",
       "    .dataframe thead th {\n",
       "        text-align: right;\n",
       "    }\n",
       "</style>\n",
       "<table border=\"1\" class=\"dataframe\">\n",
       "  <thead>\n",
       "    <tr style=\"text-align: right;\">\n",
       "      <th></th>\n",
       "      <th>effect</th>\n",
       "      <th>standard_error</th>\n",
       "      <th>z_stat</th>\n",
       "      <th>p_value</th>\n",
       "      <th>CI 0.05</th>\n",
       "      <th>CI 0.95</th>\n",
       "    </tr>\n",
       "  </thead>\n",
       "  <tbody>\n",
       "    <tr>\n",
       "      <th>t</th>\n",
       "      <td>1179.029339</td>\n",
       "      <td>979.115162</td>\n",
       "      <td>1.204178</td>\n",
       "      <td>0.228521</td>\n",
       "      <td>-740.001115</td>\n",
       "      <td>3098.059793</td>\n",
       "    </tr>\n",
       "  </tbody>\n",
       "</table>\n",
       "</div>"
      ],
      "text/plain": [
       "        effect  standard_error    z_stat   p_value     CI 0.05      CI 0.95\n",
       "t  1179.029339      979.115162  1.204178  0.228521 -740.001115  3098.059793"
      ]
     },
     "execution_count": 34,
     "metadata": {},
     "output_type": "execute_result"
    }
   ],
   "source": [
    "xlearner.summary( effect_type=\"att\")"
   ]
  },
  {
   "cell_type": "code",
   "execution_count": 35,
   "metadata": {},
   "outputs": [],
   "source": [
    "dalearner = DomainAdaptationLearner(\n",
    "    data=df,\n",
    "    t_col=d_col,\n",
    "    y_col=y_col,\n",
    "    x_cols=x_cols,\n",
    "    t_model= LGBMClassifier(random_state=0),\n",
    "    outcome_model=LGBMRegressor(random_state=0),\n",
    ")"
   ]
  },
  {
   "cell_type": "code",
   "execution_count": 36,
   "metadata": {},
   "outputs": [
    {
     "name": "stderr",
     "output_type": "stream",
     "text": [
      "100%|██████████| 100/100 [00:28<00:00,  3.48it/s]\n"
     ]
    },
    {
     "data": {
      "text/html": [
       "<div>\n",
       "<style scoped>\n",
       "    .dataframe tbody tr th:only-of-type {\n",
       "        vertical-align: middle;\n",
       "    }\n",
       "\n",
       "    .dataframe tbody tr th {\n",
       "        vertical-align: top;\n",
       "    }\n",
       "\n",
       "    .dataframe thead th {\n",
       "        text-align: right;\n",
       "    }\n",
       "</style>\n",
       "<table border=\"1\" class=\"dataframe\">\n",
       "  <thead>\n",
       "    <tr style=\"text-align: right;\">\n",
       "      <th></th>\n",
       "      <th>effect</th>\n",
       "      <th>standard_error</th>\n",
       "      <th>z_stat</th>\n",
       "      <th>p_value</th>\n",
       "      <th>CI 0.05</th>\n",
       "      <th>CI 0.95</th>\n",
       "    </tr>\n",
       "  </thead>\n",
       "  <tbody>\n",
       "    <tr>\n",
       "      <th>t</th>\n",
       "      <td>642.48281</td>\n",
       "      <td>976.206759</td>\n",
       "      <td>0.658142</td>\n",
       "      <td>0.510447</td>\n",
       "      <td>-1270.84728</td>\n",
       "      <td>2555.812899</td>\n",
       "    </tr>\n",
       "  </tbody>\n",
       "</table>\n",
       "</div>"
      ],
      "text/plain": [
       "      effect  standard_error    z_stat   p_value     CI 0.05      CI 0.95\n",
       "t  642.48281      976.206759  0.658142  0.510447 -1270.84728  2555.812899"
      ]
     },
     "execution_count": 36,
     "metadata": {},
     "output_type": "execute_result"
    }
   ],
   "source": [
    "dalearner.summary( effect_type=\"att\")"
   ]
  },
  {
   "cell_type": "code",
   "execution_count": 37,
   "metadata": {},
   "outputs": [
    {
     "data": {
      "image/png": "[encoded data removed]",
      "text/plain": [
       "<Figure size 432x288 with 1 Axes>"
      ]
     },
     "metadata": {
      "needs_background": "light"
     },
     "output_type": "display_data"
    }
   ],
   "source": [
    "# D2ML のseはひどいけど、、、\n",
    "fig = plt.figure()\n",
    "ax = fig.add_subplot(1, 1, 1)\n",
    "\n",
    "sns.kdeplot(dml._bootstrap_att,shade=True, color='red', ax=ax, label=\"d2ml\")\n",
    "sns.kdeplot(slearner._bootstrap_att,shade=True, ax=ax, label=\"s-learner\")\n",
    "sns.kdeplot(tlearner._bootstrap_att,shade=True, ax=ax, label=\"t-learner\")\n",
    "sns.kdeplot(xlearner._bootstrap_att,shade=True, ax=ax, label=\"x-learner\")\n",
    "ax.set_title(\n",
    "    f\"bootstrap simulation : estimated ATT {dml._att:.4f},  RCT_result={rct_effect:.4f}\"\n",
    ")\n",
    "ax.set_xlabel(\"ATT\")\n",
    "ax.set_ylabel(\"freq\")\n",
    "ax.axvline(x=dml._att, color=\"black\")\n",
    "ax.axvline(x=rct_effect, color=\"black\", linestyle=\"--\")\n",
    "ax.legend()\n",
    "fig.show()"
   ]
  },
  {
   "cell_type": "code",
   "execution_count": 38,
   "metadata": {},
   "outputs": [
    {
     "data": {
      "text/html": [
       "<div>\n",
       "<style scoped>\n",
       "    .dataframe tbody tr th:only-of-type {\n",
       "        vertical-align: middle;\n",
       "    }\n",
       "\n",
       "    .dataframe tbody tr th {\n",
       "        vertical-align: top;\n",
       "    }\n",
       "\n",
       "    .dataframe thead th {\n",
       "        text-align: right;\n",
       "    }\n",
       "</style>\n",
       "<table border=\"1\" class=\"dataframe\">\n",
       "  <thead>\n",
       "    <tr style=\"text-align: right;\">\n",
       "      <th></th>\n",
       "      <th>Estimated tau</th>\n",
       "      <th>Absolute Error</th>\n",
       "    </tr>\n",
       "  </thead>\n",
       "  <tbody>\n",
       "    <tr>\n",
       "      <th>rct</th>\n",
       "      <td>1676.342625</td>\n",
       "      <td>NaN</td>\n",
       "    </tr>\n",
       "    <tr>\n",
       "      <th>multi-regression (OLS)</th>\n",
       "      <td>1548.243752</td>\n",
       "      <td>128.098873</td>\n",
       "    </tr>\n",
       "    <tr>\n",
       "      <th>IPW for ATT</th>\n",
       "      <td>1840.953903</td>\n",
       "      <td>164.611278</td>\n",
       "    </tr>\n",
       "    <tr>\n",
       "      <th>DML for ATT</th>\n",
       "      <td>1663.972451</td>\n",
       "      <td>12.370174</td>\n",
       "    </tr>\n",
       "    <tr>\n",
       "      <th>S Learner for ATT</th>\n",
       "      <td>821.905453</td>\n",
       "      <td>854.437172</td>\n",
       "    </tr>\n",
       "    <tr>\n",
       "      <th>T Learner for ATT</th>\n",
       "      <td>794.218684</td>\n",
       "      <td>882.123941</td>\n",
       "    </tr>\n",
       "    <tr>\n",
       "      <th>X Learner for ATT</th>\n",
       "      <td>1179.029339</td>\n",
       "      <td>497.313286</td>\n",
       "    </tr>\n",
       "    <tr>\n",
       "      <th>DA Learner for ATT</th>\n",
       "      <td>642.482810</td>\n",
       "      <td>1033.859815</td>\n",
       "    </tr>\n",
       "  </tbody>\n",
       "</table>\n",
       "</div>"
      ],
      "text/plain": [
       "                        Estimated tau  Absolute Error\n",
       "rct                       1676.342625             NaN\n",
       "multi-regression (OLS)    1548.243752      128.098873\n",
       "IPW for ATT               1840.953903      164.611278\n",
       "DML for ATT               1663.972451       12.370174\n",
       "S Learner for ATT          821.905453      854.437172\n",
       "T Learner for ATT          794.218684      882.123941\n",
       "X Learner for ATT         1179.029339      497.313286\n",
       "DA Learner for ATT         642.482810     1033.859815"
      ]
     },
     "execution_count": 38,
     "metadata": {},
     "output_type": "execute_result"
    }
   ],
   "source": [
    "pd.DataFrame(\n",
    "    {\n",
    "        \"rct\": [rct_effect, None],\n",
    "        \"multi-regression (OLS)\": [\n",
    "            multi_regression.params[\"treat\"],\n",
    "            abs(multi_regression.params[\"treat\"] - rct_effect),\n",
    "        ],\n",
    "        \"IPW for ATT\": [\n",
    "            ipw_result.params[\"treat\"],\n",
    "            abs(ipw_result.params[\"treat\"] - rct_effect),\n",
    "        ],\n",
    "        \"DML for ATT\": [dml._att, abs(dml._att - rct_effect)],\n",
    "        \"S Learner for ATT\": [\n",
    "            slearner._att,\n",
    "            abs(slearner._att - rct_effect),\n",
    "        ],\n",
    "        \"T Learner for ATT\": [\n",
    "            tlearner._att,\n",
    "            abs(tlearner._att - rct_effect),\n",
    "        ],\n",
    "        \"X Learner for ATT\": [\n",
    "            xlearner._att,\n",
    "            abs(xlearner._att - rct_effect),\n",
    "        ],\n",
    "         \"DA Learner for ATT\": [\n",
    "            dalearner._att,\n",
    "            abs(dalearner._att - rct_effect),\n",
    "        ],\n",
    "    },\n",
    "    index=[\"Estimated tau\", \"Absolute Error\"],\n",
    ").T"
   ]
  },
  {
   "cell_type": "markdown",
   "metadata": {},
   "source": [
    "# DMLDiD"
   ]
  },
  {
   "cell_type": "code",
   "execution_count": 39,
   "metadata": {},
   "outputs": [],
   "source": [
    "from models.dmldid_ro import DMLDiD_RO"
   ]
  },
  {
   "cell_type": "code",
   "execution_count": 40,
   "metadata": {},
   "outputs": [],
   "source": [
    "y0_col = \"re75\"\n",
    "y1_col = \"re78\""
   ]
  },
  {
   "cell_type": "code",
   "execution_count": 41,
   "metadata": {},
   "outputs": [],
   "source": [
    "lgbm_dmldid = DMLDiD_RO(\n",
    "    d_model=LGBMClassifier(random_state=0),\n",
    "    l1k_model=LGBMRegressor(random_state=0),\n",
    ")"
   ]
  },
  {
   "cell_type": "code",
   "execution_count": 42,
   "metadata": {},
   "outputs": [
    {
     "name": "stdout",
     "output_type": "stream",
     "text": [
      "lgbm Abadie att : 2972.10912417266\n"
     ]
    },
    {
     "data": {
      "text/html": [
       "<div>\n",
       "<style scoped>\n",
       "    .dataframe tbody tr th:only-of-type {\n",
       "        vertical-align: middle;\n",
       "    }\n",
       "\n",
       "    .dataframe tbody tr th {\n",
       "        vertical-align: top;\n",
       "    }\n",
       "\n",
       "    .dataframe thead th {\n",
       "        text-align: right;\n",
       "    }\n",
       "</style>\n",
       "<table border=\"1\" class=\"dataframe\">\n",
       "  <thead>\n",
       "    <tr style=\"text-align: right;\">\n",
       "      <th></th>\n",
       "      <th>effect</th>\n",
       "      <th>standard_error</th>\n",
       "      <th>z_stat</th>\n",
       "      <th>p_value</th>\n",
       "      <th>CI 0.05</th>\n",
       "      <th>CI 0.95</th>\n",
       "    </tr>\n",
       "  </thead>\n",
       "  <tbody>\n",
       "    <tr>\n",
       "      <th>t</th>\n",
       "      <td>2972.109124</td>\n",
       "      <td>4.547474e-13</td>\n",
       "      <td>6.535737e+15</td>\n",
       "      <td>0.0</td>\n",
       "      <td>2972.109124</td>\n",
       "      <td>2972.109124</td>\n",
       "    </tr>\n",
       "  </tbody>\n",
       "</table>\n",
       "</div>"
      ],
      "text/plain": [
       "        effect  standard_error        z_stat  p_value      CI 0.05  \\\n",
       "t  2972.109124    4.547474e-13  6.535737e+15      0.0  2972.109124   \n",
       "\n",
       "       CI 0.95  \n",
       "t  2972.109124  "
      ]
     },
     "execution_count": 42,
     "metadata": {},
     "output_type": "execute_result"
    }
   ],
   "source": [
    "lgbm_dmldid.fit(df, y1_col, y0_col, d_col, x_cols ,dmldid=False, sim_cnt=100)\n",
    "print(\"lgbm Abadie att :\", lgbm_dmldid.att())\n",
    "lgbm_dmldid.summary()"
   ]
  },
  {
   "cell_type": "code",
   "execution_count": 43,
   "metadata": {},
   "outputs": [
    {
     "name": "stdout",
     "output_type": "stream",
     "text": [
      "99. att :  1719.6713139348694\n",
      "lgbm dmldid att : 1743.2205770933124\n"
     ]
    },
    {
     "data": {
      "text/html": [
       "<div>\n",
       "<style scoped>\n",
       "    .dataframe tbody tr th:only-of-type {\n",
       "        vertical-align: middle;\n",
       "    }\n",
       "\n",
       "    .dataframe tbody tr th {\n",
       "        vertical-align: top;\n",
       "    }\n",
       "\n",
       "    .dataframe thead th {\n",
       "        text-align: right;\n",
       "    }\n",
       "</style>\n",
       "<table border=\"1\" class=\"dataframe\">\n",
       "  <thead>\n",
       "    <tr style=\"text-align: right;\">\n",
       "      <th></th>\n",
       "      <th>effect</th>\n",
       "      <th>standard_error</th>\n",
       "      <th>z_stat</th>\n",
       "      <th>p_value</th>\n",
       "      <th>CI 0.05</th>\n",
       "      <th>CI 0.95</th>\n",
       "    </tr>\n",
       "  </thead>\n",
       "  <tbody>\n",
       "    <tr>\n",
       "      <th>t</th>\n",
       "      <td>1743.220577</td>\n",
       "      <td>2222.765106</td>\n",
       "      <td>0.784258</td>\n",
       "      <td>0.432889</td>\n",
       "      <td>-2613.318977</td>\n",
       "      <td>6099.760131</td>\n",
       "    </tr>\n",
       "  </tbody>\n",
       "</table>\n",
       "</div>"
      ],
      "text/plain": [
       "        effect  standard_error    z_stat   p_value      CI 0.05      CI 0.95\n",
       "t  1743.220577     2222.765106  0.784258  0.432889 -2613.318977  6099.760131"
      ]
     },
     "execution_count": 43,
     "metadata": {},
     "output_type": "execute_result"
    }
   ],
   "source": [
    "lgbm_dmldid.fit(df, y1_col, y0_col, d_col, x_cols ,dmldid=True, sim_cnt=100,  progress_plot=True)\n",
    "print(\"lgbm dmldid att :\", lgbm_dmldid.att())\n",
    "lgbm_dmldid.summary()"
   ]
  },
  {
   "cell_type": "code",
   "execution_count": 44,
   "metadata": {},
   "outputs": [
    {
     "data": {
      "image/png": "[encoded data removed]",
      "text/plain": [
       "<Figure size 432x288 with 1 Axes>"
      ]
     },
     "metadata": {
      "needs_background": "light"
     },
     "output_type": "display_data"
    }
   ],
   "source": [
    "# D2ML のseはひどいけど、、、\n",
    "fig = plt.figure()\n",
    "ax = fig.add_subplot(1, 1, 1)\n",
    "\n",
    "sns.kdeplot(dml._bootstrap_att,shade=True, color='red', ax=ax, label=\"dml\")\n",
    "sns.kdeplot(lgbm_dmldid.sim_att_result(),shade=True, ax=ax, label=\"lgbm_dmldid\")\n",
    "\n",
    "ax.set_title(\n",
    "    f\"bootstrap simulation : estimated ATT {dml._att:.4f},  RCT_result={rct_effect:.4f}\"\n",
    ")\n",
    "ax.set_xlabel(\"ATT\")\n",
    "ax.set_ylabel(\"freq\")\n",
    "ax.axvline(x=dml._att, color=\"black\")\n",
    "ax.axvline(x=rct_effect, color=\"black\", linestyle=\"--\")\n",
    "ax.legend()\n",
    "fig.show()"
   ]
  },
  {
   "cell_type": "code",
   "execution_count": 45,
   "metadata": {},
   "outputs": [],
   "source": [
    "%load_ext rpy2.ipython"
   ]
  },
  {
   "cell_type": "code",
   "execution_count": 46,
   "metadata": {},
   "outputs": [],
   "source": [
    "%R -i df"
   ]
  },
  {
   "cell_type": "code",
   "execution_count": 47,
   "metadata": {},
   "outputs": [
    {
     "name": "stdout",
     "output_type": "stream",
     "text": [
      " Call:\n",
      "drdid_panel(y1 = df$re78, y0 = df$re75, D = df$treat, covariates = covX)\n",
      "------------------------------------------------------------------\n",
      " Locally efficient DR DID estimator for the ATT:\n",
      " \n",
      "   ATT     Std. Error  t value    Pr(>|t|)  [95% Conf. Interval] \n",
      "1118.5753   816.0387    1.3707     0.1705   -480.8605   2718.011 \n",
      "------------------------------------------------------------------\n",
      " Estimator based on panel data.\n",
      " Outcome regression est. method: OLS.\n",
      " Propensity score est. method: maximum likelihood.\n",
      " Analytical standard error.\n",
      "------------------------------------------------------------------\n",
      " See Sant'Anna and Zhao (2020) for details."
     ]
    }
   ],
   "source": [
    "%%R \n",
    "# install.packages(\"devtools\")\n",
    "#devtools::install_github(\"pedrohcgs/DRDID\")\n",
    "library(DRDID)\n",
    "\n",
    "set.seed(123)\n",
    "# Select some covariates\n",
    "covX = as.matrix(cbind(df$age, df$educ,\n",
    "                       df$black, df$married,\n",
    "                       df$nodegree, df$hisp,\n",
    "                       df$re74))\n",
    "\n",
    "# Implement traditional DR locally efficient DID with panel data\n",
    "drdid_result = drdid_panel(y1 = df$re78, y0 = df$re75,\n",
    "             D = df$treat,\n",
    "             covariates = covX)\n",
    "\n",
    "dfdid_att = drdid_result$ATT\n",
    "drdid_result"
   ]
  },
  {
   "cell_type": "code",
   "execution_count": 48,
   "metadata": {},
   "outputs": [],
   "source": [
    "%R -o dfdid_att"
   ]
  },
  {
   "cell_type": "code",
   "execution_count": 50,
   "metadata": {},
   "outputs": [
    {
     "data": {
      "text/html": [
       "<div>\n",
       "<style scoped>\n",
       "    .dataframe tbody tr th:only-of-type {\n",
       "        vertical-align: middle;\n",
       "    }\n",
       "\n",
       "    .dataframe tbody tr th {\n",
       "        vertical-align: top;\n",
       "    }\n",
       "\n",
       "    .dataframe thead th {\n",
       "        text-align: right;\n",
       "    }\n",
       "</style>\n",
       "<table border=\"1\" class=\"dataframe\">\n",
       "  <thead>\n",
       "    <tr style=\"text-align: right;\">\n",
       "      <th></th>\n",
       "      <th>Estimated tau</th>\n",
       "      <th>Absolute Error</th>\n",
       "    </tr>\n",
       "  </thead>\n",
       "  <tbody>\n",
       "    <tr>\n",
       "      <th>rct</th>\n",
       "      <td>1676.342625</td>\n",
       "      <td>NaN</td>\n",
       "    </tr>\n",
       "    <tr>\n",
       "      <th>multi-regression (OLS)</th>\n",
       "      <td>1548.243752</td>\n",
       "      <td>128.098873</td>\n",
       "    </tr>\n",
       "    <tr>\n",
       "      <th>IPW for ATT</th>\n",
       "      <td>1840.953903</td>\n",
       "      <td>164.611278</td>\n",
       "    </tr>\n",
       "    <tr>\n",
       "      <th>DML for ATT</th>\n",
       "      <td>1663.972451</td>\n",
       "      <td>12.370174</td>\n",
       "    </tr>\n",
       "    <tr>\n",
       "      <th>S Learner for ATT</th>\n",
       "      <td>821.905453</td>\n",
       "      <td>854.437172</td>\n",
       "    </tr>\n",
       "    <tr>\n",
       "      <th>T Learner for ATT</th>\n",
       "      <td>794.218684</td>\n",
       "      <td>882.123941</td>\n",
       "    </tr>\n",
       "    <tr>\n",
       "      <th>X Learner for ATT</th>\n",
       "      <td>1179.029339</td>\n",
       "      <td>497.313286</td>\n",
       "    </tr>\n",
       "    <tr>\n",
       "      <th>DA Learner for ATT</th>\n",
       "      <td>642.482810</td>\n",
       "      <td>1033.859815</td>\n",
       "    </tr>\n",
       "    <tr>\n",
       "      <th>DRDID (R pkg)</th>\n",
       "      <td>1118.575265</td>\n",
       "      <td>557.767360</td>\n",
       "    </tr>\n",
       "    <tr>\n",
       "      <th>DMLDID</th>\n",
       "      <td>1743.220577</td>\n",
       "      <td>66.877952</td>\n",
       "    </tr>\n",
       "  </tbody>\n",
       "</table>\n",
       "</div>"
      ],
      "text/plain": [
       "                        Estimated tau  Absolute Error\n",
       "rct                       1676.342625             NaN\n",
       "multi-regression (OLS)    1548.243752      128.098873\n",
       "IPW for ATT               1840.953903      164.611278\n",
       "DML for ATT               1663.972451       12.370174\n",
       "S Learner for ATT          821.905453      854.437172\n",
       "T Learner for ATT          794.218684      882.123941\n",
       "X Learner for ATT         1179.029339      497.313286\n",
       "DA Learner for ATT         642.482810     1033.859815\n",
       "DRDID (R pkg)             1118.575265      557.767360\n",
       "DMLDID                    1743.220577       66.877952"
      ]
     },
     "execution_count": 50,
     "metadata": {},
     "output_type": "execute_result"
    }
   ],
   "source": [
    "pd.DataFrame(\n",
    "    {\n",
    "        \"rct\": [rct_effect, None],\n",
    "        \"multi-regression (OLS)\": [\n",
    "            multi_regression.params[\"treat\"],\n",
    "            abs(multi_regression.params[\"treat\"] - rct_effect),\n",
    "        ],\n",
    "        \"IPW for ATT\": [\n",
    "            ipw_result.params[\"treat\"],\n",
    "            abs(ipw_result.params[\"treat\"] - rct_effect),\n",
    "        ],\n",
    "        \"DML for ATT\": [dml._att, abs(dml._att - rct_effect)],\n",
    "        \"S Learner for ATT\": [\n",
    "            slearner._att,\n",
    "            abs(slearner._att - rct_effect),\n",
    "        ],\n",
    "        \"T Learner for ATT\": [\n",
    "            tlearner._att,\n",
    "            abs(tlearner._att - rct_effect),\n",
    "        ],\n",
    "        \"X Learner for ATT\": [\n",
    "            xlearner._att,\n",
    "            abs(xlearner._att - rct_effect),\n",
    "        ],\n",
    "         \"DA Learner for ATT\": [\n",
    "            dalearner._att,\n",
    "            abs(dalearner._att - rct_effect),\n",
    "        ],\n",
    "        \"DRDID (R pkg)\": [\n",
    "            dfdid_att[0],\n",
    "            abs(dfdid_att[0] - rct_effect),\n",
    "        ],\n",
    "        \"DMLDID\": [\n",
    "            lgbm_dmldid.att(),\n",
    "            abs(lgbm_dmldid.att() - rct_effect),\n",
    "        ],\n",
    "    },\n",
    "    index=[\"Estimated tau\", \"Absolute Error\"],\n",
    ").T"
   ]
  },
  {
   "cell_type": "code",
   "execution_count": null,
   "metadata": {},
   "outputs": [],
   "source": []
  }
 ],
 "metadata": {
  "kernelspec": {
   "display_name": "Python 3",
   "language": "python",
   "name": "python3"
  },
  "language_info": {
   "codemirror_mode": {
    "name": "ipython",
    "version": 3
   },
   "file_extension": ".py",
   "mimetype": "text/x-python",
   "name": "python",
   "nbconvert_exporter": "python",
   "pygments_lexer": "ipython3",
   "version": "3.7.4"
  }
 },
 "nbformat": 4,
 "nbformat_minor": 2
}
